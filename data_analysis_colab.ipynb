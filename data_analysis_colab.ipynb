{
  "nbformat": 4,
  "nbformat_minor": 0,
  "metadata": {
    "language_info": {
      "codemirror_mode": {
        "name": "ipython",
        "version": 3
      },
      "file_extension": ".py",
      "mimetype": "text/x-python",
      "name": "python",
      "nbconvert_exporter": "python",
      "pygments_lexer": "ipython3",
      "version": "3.7.7-final"
    },
    "orig_nbformat": 2,
    "kernelspec": {
      "name": "python37764bitvenvvenvf55f1f346c8e485d9ede492664b2b71b",
      "display_name": "Python 3.7.7 64-bit ('.venv': venv)"
    },
    "colab": {
      "name": "data_analysis_colab.ipynb",
      "provenance": [],
      "collapsed_sections": []
    },
    "accelerator": "GPU"
  },
  "cells": [
    {
      "cell_type": "code",
      "metadata": {
        "tags": [],
        "id": "IdG5h0mnyW3A",
        "colab_type": "code",
        "colab": {}
      },
      "source": [
        "%load_ext autoreload\n",
        "%autoreload 2"
      ],
      "execution_count": 1,
      "outputs": []
    },
    {
      "cell_type": "code",
      "metadata": {
        "id": "zX8HK_vf0tX_",
        "colab_type": "code",
        "colab": {
          "base_uri": "https://localhost:8080/",
          "height": 34
        },
        "outputId": "a02baf89-fa63-4c96-b757-55a8f45db064"
      },
      "source": [
        "!pip install -q kaggle\n",
        "!mkdir -p ~/.kaggle\n",
        "!cp kaggle.json ~/.kaggle/\n",
        "!ls ~/.kaggle\n",
        "!chmod 600 /root/.kaggle/kaggle.json"
      ],
      "execution_count": 13,
      "outputs": [
        {
          "output_type": "stream",
          "text": [
            "kaggle.json\n"
          ],
          "name": "stdout"
        }
      ]
    },
    {
      "cell_type": "code",
      "metadata": {
        "id": "2ziZetGI2V1Z",
        "colab_type": "code",
        "colab": {}
      },
      "source": [
        "import tensorflow as tf, pandas as pd\n",
        "\n",
        "def parse_TFR_data_labelled(sample):\n",
        "    tfrec_format = {\n",
        "          'image'                        : tf.io.FixedLenFeature([], tf.string),\n",
        "          'image_name'                   : tf.io.FixedLenFeature([], tf.string),\n",
        "          #'patient_id'                   : tf.io.FixedLenFeature([], tf.int64),\n",
        "          #'sex'                          : tf.io.FixedLenFeature([], tf.int64),\n",
        "          #'age_approx'                   : tf.io.FixedLenFeature([], tf.int64),\n",
        "          #'anatom_site_general_challenge': tf.io.FixedLenFeature([], tf.int64),\n",
        "          #'diagnosis'                    : tf.io.FixedLenFeature([], tf.int64),\n",
        "          'target'                       : tf.io.FixedLenFeature([], tf.int64)}\n",
        "    example = tf.io.parse_single_example(sample, tfrec_format)\n",
        "        \n",
        "    #img = p['image']\n",
        "    #target = p['target']\n",
        "\n",
        "    return example\n",
        "\n",
        "def decode_image(img , IMG_DIMS):\n",
        "    img = tf.image.decode_jpeg(img, channels=3)\n",
        "    img = tf.image.resize(img , [IMG_DIMS , IMG_DIMS])\n",
        "    return img"
      ],
      "execution_count": 39,
      "outputs": []
    },
    {
      "cell_type": "code",
      "metadata": {
        "id": "ZyJq8n614uCs",
        "colab_type": "code",
        "colab": {}
      },
      "source": [
        "!git clone https://github.com/ARMargolis/melanoma-pytorch.git"
      ],
      "execution_count": null,
      "outputs": []
    },
    {
      "cell_type": "code",
      "metadata": {
        "id": "44FUol2DyW3G",
        "colab_type": "code",
        "colab": {}
      },
      "source": [
        "import pandas as pd\n",
        "from torchvision.transforms.functional import to_pil_image\n",
        "from torch.utils.data import DataLoader\n",
        "import pandas as pd \n",
        "import numpy as np\n",
        "import torch\n",
        "from torch import nn, sigmoid\n",
        "from torch.nn import functional as F\n",
        "from torch.utils import data\n",
        "\n",
        "from PIL import Image, ImageOps\n",
        "from torchvision import transforms, utils\n",
        "\n",
        "\n",
        "default_device = 'cuda' if torch.cuda.is_available() else 'cpu'\n",
        "\n",
        "class MelanomaDatasetCL(data.Dataset):\n",
        "    # TODO initialize conv layers and fc layers in a particular way. Important for our experiment\n",
        "    # TODO add cuda support\n",
        "    \n",
        "    def __init__(self, gcs_path, train, device = default_device, **specifications):\n",
        "        \"\"\"\n",
        "        Initializes the dataset. Will use .tfrec files\n",
        "        gcs_path (str): GCS path where images and labels are stored\n",
        "        specifications (optional): any extra keyword args are stored in a dict. Can include:\n",
        "            -transform\n",
        "            -resolution: what size do we want to resize the images to? Square or rectangular?\n",
        "        \"\"\"\n",
        "        \n",
        "        #  Handle specifications\n",
        "        if specifications:\n",
        "            print('Specifications:')\n",
        "            for key, value in specifications.items():\n",
        "                print(key, ' : ', value)\n",
        "            print('----------------------')\n",
        "        #images generally are 1053x1872 coming in - will centercrop to 1000 x 1000\n",
        "        self.initial_resolution = (1053,1872)\n",
        "        if 'initial_resolution' in specifications:\n",
        "            if isinstance(specifications['initial_resolution']):\n",
        "                self.initial_resolution = specifications['initial_resolution']\n",
        "            else:\n",
        "                print('Invalid format for inital resolution. Give a tuple')\n",
        "        # Set resolution of actual samples to feed into the model\n",
        "        self.resolution = 244 # 1000 default\n",
        "\n",
        "        # Figure out what transforms to use\n",
        "        if 'transform' not in specifications:\n",
        "            # If I didn't specify a transform\n",
        "            if train:\n",
        "                # if a training dataset\n",
        "                self.transform = transforms.Compose(\n",
        "                    [\n",
        "                        transforms.Resize(self.initial_resolution),\n",
        "                        transforms.CenterCrop(self.initial_resolution[0]), #get a square image\n",
        "                        transforms.RandomResizedCrop(size=self.resolution, scale=(0.8, 1.0)),\n",
        "                        transforms.RandomVerticalFlip(p=0.5),\n",
        "                        transforms.RandomHorizontalFlip(p=0.5),\n",
        "                        #transforms.RandomRotation(degrees=10, resample = Image.BICUBIC, expand = True),\n",
        "                        #transforms.CenterCrop(self.resolution),\n",
        "                        transforms.ColorJitter(brightness=0.1, contrast=0.1, saturation=0.1),\n",
        "                        transforms.ToTensor(),\n",
        "                        transforms.Normalize(mean=[0.485, 0.456, 0.406],std=[0.229, 0.224, 0.225]) #Taken from overall dataset\n",
        "                    ]\n",
        "                )\n",
        "            else:\n",
        "                # if test\n",
        "                self.transform = transforms.Compose(\n",
        "                    [\n",
        "                        transforms.Resize(self.initial_resolution),\n",
        "                        transforms.CenterCrop(self.initial_resolution[0]), #get a square image\n",
        "                        transforms.CenterCrop(self.resolution), \n",
        "                        transforms.ToTensor(),\n",
        "                        transforms.Normalize(mean=[0.485, 0.456, 0.406],std=[0.229, 0.224, 0.225])\n",
        "                    ]\n",
        "                )\n",
        "        else:\n",
        "            if specifications['transform'] == None:\n",
        "                # If I specifically specify no transform, then the only transform is to_tensor\n",
        "                self.transform = transforms.functional.to_tensor #self.transform is a function\n",
        "            else:\n",
        "                # If I directly feed in a transform, use that\n",
        "                self.transform = specifications['transform']\n",
        "\n",
        "        self.gcs_path = gcs_path\n",
        "        tfrec_dataset = tf.data.TFRecordDataset(gcs_path)\n",
        "        tfrec_dataset_cache=tfrec_dataset.cache()\n",
        "        tfrec_dataset_cache_map1=tfrec_dataset_cache.map(parse_TFR_data_labelled)\n",
        "        self.data_iter=tfrec_dataset_cache_map1.as_numpy_iterator()\n",
        "        self.label_df=pd.Series(tf.io.gfile.glob(gcs_path))\n",
        "\n",
        "        self.device = device\n",
        "    \n",
        "    def __len__(self):\n",
        "        return self.label_df.shape[0]\n",
        "\n",
        "    def __getitem__(self, idx):\n",
        "        \"\"\"\n",
        "            Get a single sample\n",
        "            Want this method to be very fast, i.e. few or no if statements, etc.\n",
        "        \"\"\"\n",
        "        #if torch.is_tensor(idx):\n",
        "        #    idx = idx.tolist()\n",
        "        \n",
        "        next_data=next(self.data_iter)\n",
        "        name=next_data['image_name']\n",
        "        label=next_data['target']\n",
        "        \n",
        "        # get PIL image\n",
        "        decoded_img=decode_image(next_data['image'],1024).numpy().astype(np.uint8)\n",
        "        image = Image.fromarray(decoded_img)\n",
        "        image = self.transform(image)\n",
        "        image = image.to(self.device)\n",
        "\n",
        "        return (image, torch.LongTensor([label]) )\n",
        "    \n",
        "    def display_sample(self, idx):\n",
        "        pic, label = self.__getitem__(idx)\n",
        "        pic = pic.to('cpu')\n",
        "        pic = transforms.functional.to_pil_image(pic)\n",
        "        print('----------------------\\nlabel: ', label.cpu().numpy())\n",
        "        # if not using in jupyter notebook context, show the image directly instead of returning it\n",
        "        # pic.show()\n",
        "        return pic"
      ],
      "execution_count": 107,
      "outputs": []
    },
    {
      "cell_type": "code",
      "metadata": {
        "id": "WxVFNkVM4jby",
        "colab_type": "code",
        "colab": {}
      },
      "source": [
        "default_config = {\n",
        "    'input_shape':(1,3,244,244),\n",
        "    'n_classes':1, #binary classification\n",
        "    'base_channels':3,\n",
        "    'block_type':'basic',\n",
        "    'depth':20, # depth should be two more than a multiple of six\n",
        "    'device': 'cuda' if torch.cuda.is_available() else 'cpu'\n",
        "\n",
        "}\n",
        "\n",
        "# Credit for all code below goes to https://github.com/hysts/pytorch_resnet/blob/master/resnet.py\n",
        "# The license of said project allows for reuse (commercial or otherwise), modification, and distribution of the code, without limitations\n",
        "\n",
        "class MelanomaNet(nn.Module):\n",
        "    def __init__(self, config=default_config):\n",
        "        super(MelanomaNet, self).__init__()\n",
        "        print(config)\n",
        "\n",
        "        input_shape = config['input_shape']\n",
        "        n_classes = config['n_classes']\n",
        "\n",
        "        base_channels = config['base_channels']\n",
        "        block_type = config['block_type']\n",
        "        depth = config['depth']\n",
        "        self.device = config['device']\n",
        "\n",
        "        assert block_type in ['basic', 'bottleneck']\n",
        "        if block_type == 'basic':\n",
        "            print('block type: ', block_type)\n",
        "            block = BasicBlock\n",
        "            n_blocks_per_stage = (depth - 2) // 6\n",
        "            print('blocks per stage: ', n_blocks_per_stage)\n",
        "            assert n_blocks_per_stage * 6 + 2 == depth\n",
        "        else:\n",
        "            block = BottleneckBlock\n",
        "            n_blocks_per_stage = (depth - 2) // 9\n",
        "            assert n_blocks_per_stage * 9 + 2 == depth\n",
        "\n",
        "        n_channels = [\n",
        "            base_channels, base_channels * 2 * block.expansion,\n",
        "            base_channels * 4 * block.expansion\n",
        "        ]\n",
        "\n",
        "        self.conv = nn.Conv2d(\n",
        "            input_shape[1],\n",
        "            n_channels[0],\n",
        "            kernel_size=3,\n",
        "            stride=1,\n",
        "            padding=1,\n",
        "            bias=False)\n",
        "        self.bn = nn.BatchNorm2d(base_channels)\n",
        "\n",
        "        self.stage1 = self._make_stage(\n",
        "            n_channels[0], n_channels[0], n_blocks_per_stage, block, stride=1)\n",
        "        self.stage2 = self._make_stage(\n",
        "            n_channels[0], n_channels[1], n_blocks_per_stage, block, stride=2)\n",
        "        self.stage3 = self._make_stage(\n",
        "            n_channels[1], n_channels[2], n_blocks_per_stage, block, stride=2)\n",
        "\n",
        "        # compute conv feature size\n",
        "        with torch.no_grad():\n",
        "            self.feature_size = self._forward_conv(\n",
        "                torch.zeros(*input_shape)).view(-1).shape[0]\n",
        "\n",
        "        self.fc = nn.Linear(self.feature_size, n_classes)\n",
        "\n",
        "        # initialize weights\n",
        "        #self.apply(initialize_weights)\n",
        "\n",
        "        self.to(self.device)\n",
        "\n",
        "    def _make_stage(self, in_channels, out_channels, n_blocks, block, stride):\n",
        "        stage = nn.Sequential()\n",
        "        for index in range(n_blocks):\n",
        "            block_name = 'block{}'.format(index + 1)\n",
        "            if index == 0:\n",
        "                stage.add_module(\n",
        "                    block_name, block(\n",
        "                        in_channels, out_channels, stride=stride))\n",
        "            else:\n",
        "                stage.add_module(block_name,\n",
        "                                 block(out_channels, out_channels, stride=1))\n",
        "        return stage\n",
        "\n",
        "    def _forward_conv(self, x):\n",
        "        x = F.relu(self.bn(self.conv(x)), inplace=True)\n",
        "        x = self.stage1(x)\n",
        "        x = self.stage2(x)\n",
        "        x = self.stage3(x)\n",
        "        x = F.adaptive_avg_pool2d(x, output_size=1)\n",
        "        return x\n",
        "\n",
        "    def forward(self, x):\n",
        "        x = self._forward_conv(x)\n",
        "        x = x.view(x.size(0), -1)\n",
        "        x = self.fc(x)\n",
        "        return x\n",
        "    \n",
        "    def predict(self, x, threshold=0.5):\n",
        "        # predict 0 (benign) or 1 (malignant)\n",
        "        model.eval()\n",
        "        with torch.no_grad():\n",
        "            a = self.forward(x)\n",
        "            a = sigmoid(a)\n",
        "            # Round to 0 or 1 by threshold. \n",
        "            # In a clinical setting, a false negative would probably be worse than \n",
        "            # a false positive so we would set the confidence threshold lower\n",
        "            a = (a.detach().cpu().numpy() > threshold).astype(int)\n",
        "            return a\n",
        "\n",
        "\n",
        "class BasicBlock(nn.Module):\n",
        "    expansion = 1\n",
        "\n",
        "    def __init__(self, in_channels, out_channels, stride):\n",
        "        super(BasicBlock, self).__init__()\n",
        "\n",
        "        self.conv1 = nn.Conv2d(\n",
        "            in_channels,\n",
        "            out_channels,\n",
        "            kernel_size=3,\n",
        "            stride=stride,  # downsample with first conv\n",
        "            padding=1,\n",
        "            bias=False)\n",
        "        self.bn1 = nn.BatchNorm2d(out_channels)\n",
        "        self.conv2 = nn.Conv2d(\n",
        "            out_channels,\n",
        "            out_channels,\n",
        "            kernel_size=3,\n",
        "            stride=1,\n",
        "            padding=1,\n",
        "            bias=False)\n",
        "        self.bn2 = nn.BatchNorm2d(out_channels)\n",
        "\n",
        "        self.shortcut = nn.Sequential()\n",
        "        if in_channels != out_channels:\n",
        "            self.shortcut.add_module(\n",
        "                'conv',\n",
        "                nn.Conv2d(\n",
        "                    in_channels,\n",
        "                    out_channels,\n",
        "                    kernel_size=1,\n",
        "                    stride=stride,  # downsample\n",
        "                    padding=0,\n",
        "                    bias=False))\n",
        "            self.shortcut.add_module('bn', nn.BatchNorm2d(out_channels))  # BN\n",
        "\n",
        "    def forward(self, x):\n",
        "        y = F.relu(self.bn1(self.conv1(x)), inplace=True)\n",
        "        y = self.bn2(self.conv2(y))\n",
        "        y += self.shortcut(x)\n",
        "        y = F.relu(y, inplace=True)  # apply ReLU after addition\n",
        "        return y\n",
        "\n",
        "\n",
        "class BottleneckBlock(nn.Module):\n",
        "    expansion = 4\n",
        "\n",
        "    def __init__(self, in_channels, out_channels, stride):\n",
        "        super(BottleneckBlock, self).__init__()\n",
        "\n",
        "        bottleneck_channels = out_channels // self.expansion\n",
        "\n",
        "        self.conv1 = nn.Conv2d(\n",
        "            in_channels,\n",
        "            bottleneck_channels,\n",
        "            kernel_size=1,\n",
        "            stride=1,\n",
        "            padding=0,\n",
        "            bias=False)\n",
        "        self.bn1 = nn.BatchNorm2d(bottleneck_channels)\n",
        "\n",
        "        self.conv2 = nn.Conv2d(\n",
        "            bottleneck_channels,\n",
        "            bottleneck_channels,\n",
        "            kernel_size=3,\n",
        "            stride=stride,  # downsample with 3x3 conv\n",
        "            padding=1,\n",
        "            bias=False)\n",
        "        self.bn2 = nn.BatchNorm2d(bottleneck_channels)\n",
        "\n",
        "        self.conv3 = nn.Conv2d(\n",
        "            bottleneck_channels,\n",
        "            out_channels,\n",
        "            kernel_size=1,\n",
        "            stride=1,\n",
        "            padding=0,\n",
        "            bias=False)\n",
        "        self.bn3 = nn.BatchNorm2d(out_channels)\n",
        "\n",
        "        self.shortcut = nn.Sequential()  # identity\n",
        "        if in_channels != out_channels:\n",
        "            self.shortcut.add_module(\n",
        "                'conv',\n",
        "                nn.Conv2d(\n",
        "                    in_channels,\n",
        "                    out_channels,\n",
        "                    kernel_size=1,\n",
        "                    stride=stride,  # downsample\n",
        "                    padding=0,\n",
        "                    bias=False))\n",
        "            self.shortcut.add_module('bn', nn.BatchNorm2d(out_channels))  # BN\n",
        "\n",
        "    def forward(self, x):\n",
        "        y = F.relu(self.bn1(self.conv1(x)), inplace=True)\n",
        "        y = F.relu(self.bn2(self.conv2(y)), inplace=True)\n",
        "        y = self.bn3(self.conv3(y))  # not apply ReLU\n",
        "        y += self.shortcut(x)\n",
        "        y = F.relu(y, inplace=True)  # apply ReLU after addition\n",
        "        return y"
      ],
      "execution_count": 86,
      "outputs": []
    },
    {
      "cell_type": "code",
      "metadata": {
        "id": "XfopUdNmyW3K",
        "colab_type": "code",
        "colab": {
          "base_uri": "https://localhost:8080/",
          "height": 88
        },
        "outputId": "be9005a7-9e29-4ca9-b9b8-1e72e0c1dbfc"
      },
      "source": [
        "GCS_PATH=r'gs://kds-a2a40e123e228c885db15ca1b3bdbed0722555939bb3839437cc12ac/'\n",
        "train_recs=tf.io.gfile.glob(GCS_PATH+'tfrecords/train*')\n",
        "mds = MelanomaDatasetCL(gcs_path=train_recs, train = True)\n",
        "mdl = DataLoader(mds, batch_size = 3, shuffle=True)\n",
        "model = MelanomaNet()"
      ],
      "execution_count": 108,
      "outputs": [
        {
          "output_type": "stream",
          "text": [
            "{'input_shape': (1, 3, 244, 244), 'n_classes': 1, 'base_channels': 3, 'block_type': 'basic', 'depth': 20, 'device': 'cuda'}\n",
            "block type:  basic\n",
            "blocks per stage:  3\n"
          ],
          "name": "stdout"
        }
      ]
    },
    {
      "cell_type": "code",
      "metadata": {
        "tags": [],
        "id": "r4Sf3gxfyW3e",
        "colab_type": "code",
        "colab": {
          "base_uri": "https://localhost:8080/",
          "height": 119
        },
        "outputId": "38be0056-6435-465f-98ed-83d3172cb6b7"
      },
      "source": [
        "from time import ctime\n",
        "\n",
        "# Try overfitting a batch to make sure the model + optimizer is operating properly\n",
        "learn_rate=0.02\n",
        "EPOCHS = 50\n",
        "losses = []\n",
        "for i in range(EPOCHS):\n",
        "    if i%10==0:\n",
        "      #Half the learning rate every 10 epochs\n",
        "      learn_rate/=2\n",
        "      optimizer = Adam(model.parameters(), lr=learn_rate)\n",
        "      print('Begin epoch',i, 'lr', learn_rate, ctime())\n",
        "    for batch in mdl:\n",
        "        assert model.training\n",
        "        #zero the optimizer\n",
        "        optimizer.zero_grad()\n",
        "\n",
        "        x, y = batch\n",
        "        x=x.to(default_device)\n",
        "        y=y.to(default_device)\n",
        "        #with torch.no_grad():\n",
        "        #    model.eval()\n",
        "        #    print(model.predict(x))\n",
        "        #    model.train()\n",
        "        a = model(x)\n",
        "        a = sigmoid(a)\n",
        "        loss = (a-y)**2\n",
        "        loss = loss.mean()\n",
        "        loss.backward()\n",
        "        optimizer.step()\n",
        "\n",
        "        losses.append(loss.item())\n",
        "print('Done', ctime())"
      ],
      "execution_count": 121,
      "outputs": [
        {
          "output_type": "stream",
          "text": [
            "Begin epoch 0 lr 0.01 Tue Aug 11 20:37:29 2020\n",
            "Begin epoch 10 lr 0.005 Tue Aug 11 20:37:42 2020\n",
            "Begin epoch 20 lr 0.0025 Tue Aug 11 20:37:55 2020\n",
            "Begin epoch 30 lr 0.00125 Tue Aug 11 20:38:08 2020\n",
            "Begin epoch 40 lr 0.000625 Tue Aug 11 20:38:22 2020\n",
            "Done Tue Aug 11 20:38:34 2020\n"
          ],
          "name": "stdout"
        }
      ]
    },
    {
      "cell_type": "code",
      "metadata": {
        "id": "sUPLKXaHyW3j",
        "colab_type": "code",
        "colab": {
          "base_uri": "https://localhost:8080/",
          "height": 282
        },
        "outputId": "02af8cd2-28b8-4396-af50-dbe668ed959d"
      },
      "source": [
        "pd.Series(losses).plot()"
      ],
      "execution_count": 122,
      "outputs": [
        {
          "output_type": "execute_result",
          "data": {
            "text/plain": [
              "<matplotlib.axes._subplots.AxesSubplot at 0x7f882592dda0>"
            ]
          },
          "metadata": {
            "tags": []
          },
          "execution_count": 122
        },
        {
          "output_type": "display_data",
          "data": {
            "image/png": "[encoded data removed]",
            "text/plain": [
              "<Figure size 432x288 with 1 Axes>"
            ]
          },
          "metadata": {
            "tags": [],
            "needs_background": "light"
          }
        }
      ]
    },
    {
      "cell_type": "code",
      "metadata": {
        "tags": [],
        "id": "0Go72JVjyW3o",
        "colab_type": "code",
        "colab": {
          "base_uri": "https://localhost:8080/",
          "height": 34
        },
        "outputId": "787c11b8-3547-4372-adea-1797718b15ec"
      },
      "source": [
        "a"
      ],
      "execution_count": 123,
      "outputs": [
        {
          "output_type": "execute_result",
          "data": {
            "text/plain": [
              "tensor([[0.0001]], device='cuda:0', grad_fn=<SigmoidBackward>)"
            ]
          },
          "metadata": {
            "tags": []
          },
          "execution_count": 123
        }
      ]
    },
    {
      "cell_type": "code",
      "metadata": {
        "id": "TFSObksfyW3s",
        "colab_type": "code",
        "colab": {
          "base_uri": "https://localhost:8080/",
          "height": 34
        },
        "outputId": "aced1a8b-0b45-4df4-eeb5-9734afdd6a81"
      },
      "source": [
        "loss"
      ],
      "execution_count": 124,
      "outputs": [
        {
          "output_type": "execute_result",
          "data": {
            "text/plain": [
              "tensor(1.4526e-08, device='cuda:0', grad_fn=<MeanBackward0>)"
            ]
          },
          "metadata": {
            "tags": []
          },
          "execution_count": 124
        }
      ]
    },
    {
      "cell_type": "code",
      "metadata": {
        "tags": [],
        "id": "WeUQttCEyW3w",
        "colab_type": "code",
        "colab": {
          "base_uri": "https://localhost:8080/",
          "height": 295
        },
        "outputId": "848b630d-903a-402f-a7fe-d9042ee75646"
      },
      "source": [
        "mds.display_sample(3)"
      ],
      "execution_count": 125,
      "outputs": [
        {
          "output_type": "stream",
          "text": [
            "----------------------\n",
            "label:  [0]\n"
          ],
          "name": "stdout"
        },
        {
          "output_type": "execute_result",
          "data": {
            "image/png": "[encoded data removed]",
            "text/plain": [
              "<PIL.Image.Image image mode=RGB size=244x244 at 0x7F882593DA20>"
            ]
          },
          "metadata": {
            "tags": []
          },
          "execution_count": 125
        }
      ]
    },
    {
      "cell_type": "code",
      "metadata": {
        "tags": [],
        "id": "AvfCe_EryW3z",
        "colab_type": "code",
        "colab": {
          "base_uri": "https://localhost:8080/",
          "height": 282
        },
        "outputId": "587b041e-0724-4371-844b-29e205a80f11"
      },
      "source": [
        "pd.Series(mds[1][0][0].view(-1,).to('cpu').numpy()).hist() # Are we normalizing with the correct values?"
      ],
      "execution_count": 126,
      "outputs": [
        {
          "output_type": "execute_result",
          "data": {
            "text/plain": [
              "<matplotlib.axes._subplots.AxesSubplot at 0x7f88258a9eb8>"
            ]
          },
          "metadata": {
            "tags": []
          },
          "execution_count": 126
        },
        {
          "output_type": "display_data",
          "data": {
            "image/png": "[encoded data removed]",
            "text/plain": [
              "<Figure size 432x288 with 1 Axes>"
            ]
          },
          "metadata": {
            "tags": [],
            "needs_background": "light"
          }
        }
      ]
    },
    {
      "cell_type": "code",
      "metadata": {
        "id": "h13r8UA_yW34",
        "colab_type": "code",
        "colab": {
          "base_uri": "https://localhost:8080/",
          "height": 34
        },
        "outputId": "f8581e77-a446-488b-80e6-ccded73c2c1c"
      },
      "source": [
        "mdl"
      ],
      "execution_count": 30,
      "outputs": [
        {
          "output_type": "execute_result",
          "data": {
            "text/plain": [
              "<torch.utils.data.dataloader.DataLoader at 0x7f88a6da01d0>"
            ]
          },
          "metadata": {
            "tags": []
          },
          "execution_count": 30
        }
      ]
    },
    {
      "cell_type": "code",
      "metadata": {
        "id": "l98V-L1zQFAt",
        "colab_type": "code",
        "colab": {}
      },
      "source": [
        ""
      ],
      "execution_count": null,
      "outputs": []
    }
  ]
}