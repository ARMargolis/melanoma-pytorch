{
  "nbformat": 4,
  "nbformat_minor": 0,
  "metadata": {
    "orig_nbformat": 2,
    "kernelspec": {
      "name": "python3",
      "display_name": "Python 3"
    },
    "colab": {
      "name": "data_analysis_colab.ipynb",
      "provenance": [],
      "collapsed_sections": [],
      "machine_shape": "hm"
    },
    "accelerator": "GPU"
  },
  "cells": [
    {
      "cell_type": "code",
      "metadata": {
        "tags": [],
        "id": "IdG5h0mnyW3A",
        "colab_type": "code",
        "colab": {}
      },
      "source": [
        "%load_ext autoreload\n",
        "%autoreload 2"
      ],
      "execution_count": 1,
      "outputs": []
    },
    {
      "cell_type": "code",
      "metadata": {
        "id": "zX8HK_vf0tX_",
        "colab_type": "code",
        "colab": {
          "base_uri": "https://localhost:8080/",
          "height": 35
        },
        "outputId": "8282f25a-4b2c-4f56-e376-ba521c3ef46e"
      },
      "source": [
        "'''\n",
        "!pip install -q kaggle\n",
        "!mkdir -p ~/.kaggle\n",
        "!cp kaggle.json ~/.kaggle/\n",
        "!ls ~/.kaggle\n",
        "!chmod 600 /root/.kaggle/kaggle.json\n",
        "'''"
      ],
      "execution_count": 2,
      "outputs": [
        {
          "output_type": "execute_result",
          "data": {
            "application/vnd.google.colaboratory.intrinsic+json": {
              "type": "string"
            },
            "text/plain": [
              "'\\n!pip install -q kaggle\\n!mkdir -p ~/.kaggle\\n!cp kaggle.json ~/.kaggle/\\n!ls ~/.kaggle\\n!chmod 600 /root/.kaggle/kaggle.json\\n'"
            ]
          },
          "metadata": {
            "tags": []
          },
          "execution_count": 2
        }
      ]
    },
    {
      "cell_type": "code",
      "metadata": {
        "id": "2ziZetGI2V1Z",
        "colab_type": "code",
        "colab": {}
      },
      "source": [
        "import tensorflow as tf, pandas as pd\n",
        "\n",
        "def parse_TFR_data_labelled(sample):\n",
        "    tfrec_format = {\n",
        "          'image'                        : tf.io.FixedLenFeature([], tf.string),\n",
        "          'image_name'                   : tf.io.FixedLenFeature([], tf.string),\n",
        "          #'patient_id'                   : tf.io.FixedLenFeature([], tf.int64),\n",
        "          #'sex'                          : tf.io.FixedLenFeature([], tf.int64),\n",
        "          #'age_approx'                   : tf.io.FixedLenFeature([], tf.int64),\n",
        "          #'anatom_site_general_challenge': tf.io.FixedLenFeature([], tf.int64),\n",
        "          #'diagnosis'                    : tf.io.FixedLenFeature([], tf.int64),\n",
        "          'target'                       : tf.io.FixedLenFeature([], tf.int64)}\n",
        "    example = tf.io.parse_single_example(sample, tfrec_format)\n",
        "        \n",
        "    #img = p['image']\n",
        "    #target = p['target']\n",
        "\n",
        "    return example\n",
        "\n",
        "def decode_image(img , IMG_DIMS):\n",
        "    img = tf.image.decode_jpeg(img, channels=3)\n",
        "    img = tf.image.resize(img , [IMG_DIMS , IMG_DIMS])\n",
        "    return img"
      ],
      "execution_count": 3,
      "outputs": []
    },
    {
      "cell_type": "code",
      "metadata": {
        "id": "ZyJq8n614uCs",
        "colab_type": "code",
        "colab": {}
      },
      "source": [
        "#!git clone https://github.com/ARMargolis/melanoma-pytorch.git"
      ],
      "execution_count": 4,
      "outputs": []
    },
    {
      "cell_type": "code",
      "metadata": {
        "id": "44FUol2DyW3G",
        "colab_type": "code",
        "colab": {}
      },
      "source": [
        "import pandas as pd\n",
        "from torchvision.transforms.functional import to_pil_image\n",
        "from torch.utils.data import DataLoader\n",
        "import pandas as pd \n",
        "import numpy as np\n",
        "import torch\n",
        "from torch import nn, sigmoid\n",
        "from torch.nn import functional as F\n",
        "from torch.utils import data\n",
        "from torch.optim import Adam\n",
        "\n",
        "from PIL import Image, ImageOps\n",
        "from torchvision import transforms, utils\n",
        "\n",
        "\n",
        "default_device = 'cuda' if torch.cuda.is_available() else 'cpu'\n",
        "\n",
        "class MelanomaDatasetCL(data.Dataset):\n",
        "    # TODO initialize conv layers and fc layers in a particular way. Important for our experiment\n",
        "    # TODO add cuda support\n",
        "    \n",
        "    def __init__(self, gcs_path, train, device = default_device, resolution=1000, subsample=None, **specifications):\n",
        "        \"\"\"\n",
        "        Initializes the dataset. Will use .tfrec files\n",
        "        gcs_path (str): GCS path where images and labels are stored\n",
        "        specifications (optional): any extra keyword args are stored in a dict. Can include:\n",
        "            -transform\n",
        "            -resolution: what size do we want to resize the images to? Square or rectangular?\n",
        "        \"\"\"\n",
        "        \n",
        "        #  Handle specifications\n",
        "        if specifications:\n",
        "            print('Specifications:')\n",
        "            for key, value in specifications.items():\n",
        "                print(key, ' : ', value)\n",
        "            print('----------------------')\n",
        "        #images generally are 1053x1872 coming in - will centercrop to 1000 x 1000\n",
        "        self.initial_resolution = (1053,1872)\n",
        "        if 'initial_resolution' in specifications:\n",
        "            if isinstance(specifications['initial_resolution']):\n",
        "                self.initial_resolution = specifications['initial_resolution']\n",
        "            else:\n",
        "                print('Invalid format for inital resolution. Give a tuple')\n",
        "        # Set resolution of actual samples to feed into the model\n",
        "        self.resolution = resolution # 1000 default\n",
        "\n",
        "        # Figure out what transforms to use\n",
        "        if 'transform' not in specifications:\n",
        "            # If I didn't specify a transform\n",
        "            if train:\n",
        "                # if a training dataset\n",
        "                self.transform = transforms.Compose(\n",
        "                    [\n",
        "                        #transforms.Resize(self.initial_resolution),\n",
        "                        #transforms.CenterCrop(self.initial_resolution[0]), #get a square image\n",
        "                        #transforms.RandomResizedCrop(size=self.resolution, scale=(0.8, 1.0)),\n",
        "                        transforms.RandomVerticalFlip(p=0.5),\n",
        "                        transforms.RandomHorizontalFlip(p=0.5),\n",
        "                        transforms.RandomRotation(degrees=45, resample = Image.BICUBIC, expand = True),\n",
        "                        transforms.CenterCrop(self.resolution),\n",
        "                        #transforms.ColorJitter(brightness=0.1, contrast=0.1, saturation=0.1),\n",
        "                        transforms.ToTensor(),\n",
        "                        #transforms.Normalize(mean=[0.485, 0.456, 0.406],std=[0.229, 0.224, 0.225]) #Taken from overall dataset\n",
        "                    ]\n",
        "                )\n",
        "            else:\n",
        "                # if test\n",
        "                self.transform = transforms.Compose(\n",
        "                    [\n",
        "                        transforms.Resize(self.initial_resolution),\n",
        "                        transforms.CenterCrop(self.initial_resolution[0]), #get a square image\n",
        "                        transforms.CenterCrop(self.resolution), \n",
        "                        transforms.ToTensor(),\n",
        "                        transforms.Normalize(mean=[0.485, 0.456, 0.406],std=[0.229, 0.224, 0.225])\n",
        "                        \n",
        "                    ]\n",
        "                )\n",
        "        else:\n",
        "            if specifications['transform'] == None:\n",
        "                # If I specifically specify no transform, then the only transform is to_tensor\n",
        "                self.transform = transforms.functional.to_tensor #self.transform is a function\n",
        "            else:\n",
        "                # If I directly feed in a transform, use that\n",
        "                self.transform = specifications['transform']\n",
        "\n",
        "        self.gcs_path = gcs_path\n",
        "        tfrec_dataset = tf.data.TFRecordDataset(gcs_path)\n",
        "        tfrec_dataset_cache=tfrec_dataset.cache()\n",
        "        tfrec_dataset_cache_map1=tfrec_dataset_cache.map(parse_TFR_data_labelled)\n",
        "        self.data_iter=tfrec_dataset_cache_map1.as_numpy_iterator()\n",
        "        self.label_df=pd.Series(tf.io.gfile.glob(gcs_path))\n",
        "\n",
        "        self.device = device\n",
        "        self.subsample=subsample\n",
        "    \n",
        "    def __len__(self):\n",
        "        return self.label_df.shape[0]\n",
        "\n",
        "    def __getitem__(self, idx):\n",
        "        \"\"\"\n",
        "            Get a single sample\n",
        "            Want this method to be very fast, i.e. few or no if statements, etc.\n",
        "        \"\"\"\n",
        "        #if torch.is_tensor(idx):\n",
        "        #    idx = idx.tolist()\n",
        "        \n",
        "        next_data=next(self.data_iter)\n",
        "        label=next_data['target']\n",
        "        #If you want to subsample due to a class imbalance\n",
        "        if self.subsample:\n",
        "          while np.random.random()>self.subsample[label]:\n",
        "            next_data=next(self.data_iter)\n",
        "            label=next_data['target']\n",
        "        name=next_data['image_name']\n",
        "        \n",
        "        # get PIL image\n",
        "        decoded_img=decode_image(next_data['image'],1024).numpy().astype(np.uint8)\n",
        "        image = Image.fromarray(decoded_img)\n",
        "        image = self.transform(image)\n",
        "        image = image.to(self.device)\n",
        "\n",
        "        return (image, name, torch.LongTensor([label]))\n",
        "    \n",
        "    def display_sample(self, idx):\n",
        "        pic, name, label = self.__getitem__(idx)\n",
        "        pic = pic.to('cpu')\n",
        "        pic = transforms.functional.to_pil_image(pic)\n",
        "        print('name:',name,'label:', label.cpu().numpy())\n",
        "        # if not using in jupyter notebook context, show the image directly instead of returning it\n",
        "        # pic.show()\n",
        "        return pic"
      ],
      "execution_count": 5,
      "outputs": []
    },
    {
      "cell_type": "code",
      "metadata": {
        "id": "WxVFNkVM4jby",
        "colab_type": "code",
        "colab": {}
      },
      "source": [
        "default_config = {\n",
        "    'input_shape':(1,3,244,244),\n",
        "    'n_classes':1, #binary classification\n",
        "    'base_channels':3,\n",
        "    'block_type':'basic',\n",
        "    'depth':20, # depth should be two more than a multiple of six\n",
        "    'device': 'cuda' if torch.cuda.is_available() else 'cpu'\n",
        "\n",
        "}\n",
        "\n",
        "# Credit for all code below goes to https://github.com/hysts/pytorch_resnet/blob/master/resnet.py\n",
        "# The license of said project allows for reuse (commercial or otherwise), modification, and distribution of the code, without limitations\n",
        "\n",
        "class MelanomaNet(nn.Module):\n",
        "    def __init__(self, config=default_config):\n",
        "        super(MelanomaNet, self).__init__()\n",
        "        print(config)\n",
        "\n",
        "        input_shape = config['input_shape']\n",
        "        n_classes = config['n_classes']\n",
        "\n",
        "        base_channels = config['base_channels']\n",
        "        block_type = config['block_type']\n",
        "        depth = config['depth']\n",
        "        self.device = config['device']\n",
        "\n",
        "        assert block_type in ['basic', 'bottleneck']\n",
        "        if block_type == 'basic':\n",
        "            print('block type: ', block_type)\n",
        "            block = BasicBlock\n",
        "            n_blocks_per_stage = (depth - 2) // 6\n",
        "            print('blocks per stage: ', n_blocks_per_stage)\n",
        "            assert n_blocks_per_stage * 6 + 2 == depth\n",
        "        else:\n",
        "            block = BottleneckBlock\n",
        "            n_blocks_per_stage = (depth - 2) // 9\n",
        "            assert n_blocks_per_stage * 9 + 2 == depth\n",
        "\n",
        "        n_channels = [\n",
        "            base_channels, base_channels * 2 * block.expansion,\n",
        "            base_channels * 4 * block.expansion\n",
        "        ]\n",
        "\n",
        "        self.conv = nn.Conv2d(\n",
        "            input_shape[1],\n",
        "            n_channels[0],\n",
        "            kernel_size=3,\n",
        "            stride=1,\n",
        "            padding=1,\n",
        "            bias=False)\n",
        "        self.bn = nn.BatchNorm2d(base_channels)\n",
        "\n",
        "        self.stage1 = self._make_stage(\n",
        "            n_channels[0], n_channels[0], n_blocks_per_stage, block, stride=1)\n",
        "        self.stage2 = self._make_stage(\n",
        "            n_channels[0], n_channels[1], n_blocks_per_stage, block, stride=2)\n",
        "        self.stage3 = self._make_stage(\n",
        "            n_channels[1], n_channels[2], n_blocks_per_stage, block, stride=2)\n",
        "\n",
        "        # compute conv feature size\n",
        "        with torch.no_grad():\n",
        "            self.feature_size = self._forward_conv(\n",
        "                torch.zeros(*input_shape)).view(-1).shape[0]\n",
        "\n",
        "        self.fc = nn.Linear(self.feature_size, n_classes)\n",
        "\n",
        "        # initialize weights\n",
        "        #self.apply(initialize_weights)\n",
        "\n",
        "        self.to(self.device)\n",
        "\n",
        "    def _make_stage(self, in_channels, out_channels, n_blocks, block, stride):\n",
        "        stage = nn.Sequential()\n",
        "        for index in range(n_blocks):\n",
        "            block_name = 'block{}'.format(index + 1)\n",
        "            if index == 0:\n",
        "                stage.add_module(\n",
        "                    block_name, block(\n",
        "                        in_channels, out_channels, stride=stride))\n",
        "            else:\n",
        "                stage.add_module(block_name,\n",
        "                                 block(out_channels, out_channels, stride=1))\n",
        "        return stage\n",
        "\n",
        "    def _forward_conv(self, x):\n",
        "        x = F.relu(self.bn(self.conv(x)), inplace=True)\n",
        "        x = self.stage1(x)\n",
        "        x = self.stage2(x)\n",
        "        x = self.stage3(x)\n",
        "        x = F.adaptive_avg_pool2d(x, output_size=1)\n",
        "        return x\n",
        "\n",
        "    def forward(self, x):\n",
        "        x = self._forward_conv(x)\n",
        "        x = x.view(x.size(0), -1)\n",
        "        x = self.fc(x)\n",
        "        return x\n",
        "    \n",
        "    def predict(self, x, threshold=0.5):\n",
        "        # predict 0 (benign) or 1 (malignant)\n",
        "        model.eval()\n",
        "        with torch.no_grad():\n",
        "            a = self.forward(x)\n",
        "            a = sigmoid(a)\n",
        "            # Round to 0 or 1 by threshold. \n",
        "            # In a clinical setting, a false negative would probably be worse than \n",
        "            # a false positive so we would set the confidence threshold lower\n",
        "            a = (a.detach().cpu().numpy() > threshold).astype(int)\n",
        "            return a\n",
        "\n",
        "\n",
        "class BasicBlock(nn.Module):\n",
        "    expansion = 1\n",
        "\n",
        "    def __init__(self, in_channels, out_channels, stride):\n",
        "        super(BasicBlock, self).__init__()\n",
        "\n",
        "        self.conv1 = nn.Conv2d(\n",
        "            in_channels,\n",
        "            out_channels,\n",
        "            kernel_size=3,\n",
        "            stride=stride,  # downsample with first conv\n",
        "            padding=1,\n",
        "            bias=False)\n",
        "        self.bn1 = nn.BatchNorm2d(out_channels)\n",
        "        self.conv2 = nn.Conv2d(\n",
        "            out_channels,\n",
        "            out_channels,\n",
        "            kernel_size=3,\n",
        "            stride=1,\n",
        "            padding=1,\n",
        "            bias=False)\n",
        "        self.bn2 = nn.BatchNorm2d(out_channels)\n",
        "\n",
        "        self.shortcut = nn.Sequential()\n",
        "        if in_channels != out_channels:\n",
        "            self.shortcut.add_module(\n",
        "                'conv',\n",
        "                nn.Conv2d(\n",
        "                    in_channels,\n",
        "                    out_channels,\n",
        "                    kernel_size=1,\n",
        "                    stride=stride,  # downsample\n",
        "                    padding=0,\n",
        "                    bias=False))\n",
        "            self.shortcut.add_module('bn', nn.BatchNorm2d(out_channels))  # BN\n",
        "\n",
        "    def forward(self, x):\n",
        "        y = F.relu(self.bn1(self.conv1(x)), inplace=True)\n",
        "        y = self.bn2(self.conv2(y))\n",
        "        y += self.shortcut(x)\n",
        "        y = F.relu(y, inplace=True)  # apply ReLU after addition\n",
        "        return y\n",
        "\n",
        "\n",
        "class BottleneckBlock(nn.Module):\n",
        "    expansion = 4\n",
        "\n",
        "    def __init__(self, in_channels, out_channels, stride):\n",
        "        super(BottleneckBlock, self).__init__()\n",
        "\n",
        "        bottleneck_channels = out_channels // self.expansion\n",
        "\n",
        "        self.conv1 = nn.Conv2d(\n",
        "            in_channels,\n",
        "            bottleneck_channels,\n",
        "            kernel_size=1,\n",
        "            stride=1,\n",
        "            padding=0,\n",
        "            bias=False)\n",
        "        self.bn1 = nn.BatchNorm2d(bottleneck_channels)\n",
        "\n",
        "        self.conv2 = nn.Conv2d(\n",
        "            bottleneck_channels,\n",
        "            bottleneck_channels,\n",
        "            kernel_size=3,\n",
        "            stride=stride,  # downsample with 3x3 conv\n",
        "            padding=1,\n",
        "            bias=False)\n",
        "        self.bn2 = nn.BatchNorm2d(bottleneck_channels)\n",
        "\n",
        "        self.conv3 = nn.Conv2d(\n",
        "            bottleneck_channels,\n",
        "            out_channels,\n",
        "            kernel_size=1,\n",
        "            stride=1,\n",
        "            padding=0,\n",
        "            bias=False)\n",
        "        self.bn3 = nn.BatchNorm2d(out_channels)\n",
        "\n",
        "        self.shortcut = nn.Sequential()  # identity\n",
        "        if in_channels != out_channels:\n",
        "            self.shortcut.add_module(\n",
        "                'conv',\n",
        "                nn.Conv2d(\n",
        "                    in_channels,\n",
        "                    out_channels,\n",
        "                    kernel_size=1,\n",
        "                    stride=stride,  # downsample\n",
        "                    padding=0,\n",
        "                    bias=False))\n",
        "            self.shortcut.add_module('bn', nn.BatchNorm2d(out_channels))  # BN\n",
        "\n",
        "    def forward(self, x):\n",
        "        y = F.relu(self.bn1(self.conv1(x)), inplace=True)\n",
        "        y = F.relu(self.bn2(self.conv2(y)), inplace=True)\n",
        "        y = self.bn3(self.conv3(y))  # not apply ReLU\n",
        "        y += self.shortcut(x)\n",
        "        y = F.relu(y, inplace=True)  # apply ReLU after addition\n",
        "        return y"
      ],
      "execution_count": 6,
      "outputs": []
    },
    {
      "cell_type": "code",
      "metadata": {
        "id": "XfopUdNmyW3K",
        "colab_type": "code",
        "colab": {
          "base_uri": "https://localhost:8080/",
          "height": 85
        },
        "outputId": "b17a3329-4300-4832-9319-2b438aaa9001"
      },
      "source": [
        "GCS_PATH=r'gs://kds-ca51e6aef2639960584a063f30a434cebf2d6f442486293bcf54f8ca/'\n",
        "train_recs=tf.io.gfile.glob(GCS_PATH+'tfrecords/train*')\n",
        "print(default_device)\n",
        "mds = MelanomaDatasetCL(gcs_path=train_recs, train = True, resolution=500, subsample=[0.04,1])\n",
        "mdl = DataLoader(mds, batch_size = 8, shuffle=False)\n",
        "model = MelanomaNet()"
      ],
      "execution_count": 7,
      "outputs": [
        {
          "output_type": "stream",
          "text": [
            "cuda\n",
            "{'input_shape': (1, 3, 244, 244), 'n_classes': 1, 'base_channels': 3, 'block_type': 'basic', 'depth': 20, 'device': 'cuda'}\n",
            "block type:  basic\n",
            "blocks per stage:  3\n"
          ],
          "name": "stdout"
        }
      ]
    },
    {
      "cell_type": "code",
      "metadata": {
        "tags": [],
        "id": "r4Sf3gxfyW3e",
        "colab_type": "code",
        "colab": {
          "base_uri": "https://localhost:8080/",
          "height": 884
        },
        "outputId": "624b1b08-f69a-4832-ba3c-fbeb866de747"
      },
      "source": [
        "from time import ctime\n",
        "\n",
        "# Try overfitting a batch to make sure the model + optimizer is operating properly\n",
        "learn_rate=0.01\n",
        "optimizer = Adam(model.parameters(), lr=learn_rate)\n",
        "EPOCHS = 5\n",
        "STEPS=200\n",
        "loss_bce = nn.BCELoss()\n",
        "pred_list=[]\n",
        "y_list=[]\n",
        "loss_list = []\n",
        "print('Begin', ctime())\n",
        "for i in range(EPOCHS):\n",
        "  batch_num=0\n",
        "  for s in range(STEPS):\n",
        "    for batch in mdl:\n",
        "      batch_num+=1\n",
        "      assert model.training\n",
        "      #zero the optimizer\n",
        "      optimizer.zero_grad()\n",
        "\n",
        "      x, name, y = batch\n",
        "      x=x.to(default_device)\n",
        "      y=y.to(default_device)\n",
        "      #with torch.no_grad():\n",
        "      #    model.eval()\n",
        "      #    print(model.predict(x))\n",
        "      #    model.train()\n",
        "      pred=sigmoid(model(x))\n",
        "      loss = loss_bce(pred,y.float())\n",
        "      loss.backward()\n",
        "      optimizer.step()\n",
        "\n",
        "      y_list.append(y.to('cpu').numpy())\n",
        "      pred_list.append(pred.detach().to('cpu').numpy())\n",
        "      loss_list.append(loss.item())\n",
        "    if s%20==19:\n",
        "      print('Epoch', i,'step', s, 'complete.',batch_num, 'batches. Avg Loss (last 10):', sum(loss_list[-10:])/10, ctime())\n",
        "  mds = MelanomaDatasetCL(gcs_path=train_recs, train = True, resolution=500, subsample=[0.04,1])\n",
        "  mdl = DataLoader(mds, batch_size = 8, shuffle=False)"
      ],
      "execution_count": 8,
      "outputs": [
        {
          "output_type": "stream",
          "text": [
            "Begin Sat Aug 15 13:10:36 2020\n",
            "Epoch 0 step 19 complete. 40 batches. Avg Loss (last 10): 0.6051898688077927 Sat Aug 15 13:12:15 2020\n",
            "Epoch 0 step 39 complete. 80 batches. Avg Loss (last 10): 0.5483148127794266 Sat Aug 15 13:14:02 2020\n",
            "Epoch 0 step 59 complete. 120 batches. Avg Loss (last 10): 0.5930726319551468 Sat Aug 15 13:15:46 2020\n",
            "Epoch 0 step 79 complete. 160 batches. Avg Loss (last 10): 0.6176317602396011 Sat Aug 15 13:17:25 2020\n",
            "Epoch 0 step 99 complete. 200 batches. Avg Loss (last 10): 0.47379179298877716 Sat Aug 15 13:19:05 2020\n",
            "Epoch 0 step 119 complete. 239 batches. Avg Loss (last 10): 0.6701051950454712 Sat Aug 15 13:20:53 2020\n",
            "Epoch 0 step 139 complete. 239 batches. Avg Loss (last 10): 0.6701051950454712 Sat Aug 15 13:20:53 2020\n",
            "Epoch 0 step 159 complete. 239 batches. Avg Loss (last 10): 0.6701051950454712 Sat Aug 15 13:20:53 2020\n",
            "Epoch 0 step 179 complete. 239 batches. Avg Loss (last 10): 0.6701051950454712 Sat Aug 15 13:20:53 2020\n",
            "Epoch 0 step 199 complete. 239 batches. Avg Loss (last 10): 0.6701051950454712 Sat Aug 15 13:20:53 2020\n",
            "Epoch 1 step 19 complete. 40 batches. Avg Loss (last 10): 0.5155788749456406 Sat Aug 15 13:22:31 2020\n",
            "Epoch 1 step 39 complete. 80 batches. Avg Loss (last 10): 0.5155378699302673 Sat Aug 15 13:24:14 2020\n",
            "Epoch 1 step 59 complete. 120 batches. Avg Loss (last 10): 0.5949895977973938 Sat Aug 15 13:25:49 2020\n",
            "Epoch 1 step 79 complete. 160 batches. Avg Loss (last 10): 0.6049424916505813 Sat Aug 15 13:27:34 2020\n",
            "Epoch 1 step 99 complete. 200 batches. Avg Loss (last 10): 0.6073995560407639 Sat Aug 15 13:29:15 2020\n",
            "Epoch 1 step 119 complete. 233 batches. Avg Loss (last 10): 0.576118728518486 Sat Aug 15 13:30:46 2020\n",
            "Epoch 1 step 139 complete. 233 batches. Avg Loss (last 10): 0.576118728518486 Sat Aug 15 13:30:46 2020\n",
            "Epoch 1 step 159 complete. 233 batches. Avg Loss (last 10): 0.576118728518486 Sat Aug 15 13:30:46 2020\n",
            "Epoch 1 step 179 complete. 233 batches. Avg Loss (last 10): 0.576118728518486 Sat Aug 15 13:30:46 2020\n",
            "Epoch 1 step 199 complete. 233 batches. Avg Loss (last 10): 0.576118728518486 Sat Aug 15 13:30:46 2020\n",
            "Epoch 2 step 19 complete. 40 batches. Avg Loss (last 10): 0.44151357412338255 Sat Aug 15 13:32:25 2020\n",
            "Epoch 2 step 39 complete. 80 batches. Avg Loss (last 10): 0.5386774837970734 Sat Aug 15 13:34:13 2020\n",
            "Epoch 2 step 59 complete. 120 batches. Avg Loss (last 10): 0.5756646871566773 Sat Aug 15 13:35:54 2020\n",
            "Epoch 2 step 79 complete. 160 batches. Avg Loss (last 10): 0.49659238159656527 Sat Aug 15 13:37:38 2020\n",
            "Epoch 2 step 99 complete. 200 batches. Avg Loss (last 10): 0.5422489643096924 Sat Aug 15 13:39:19 2020\n",
            "Epoch 2 step 119 complete. 236 batches. Avg Loss (last 10): 0.5303499966859817 Sat Aug 15 13:40:51 2020\n",
            "Epoch 2 step 139 complete. 236 batches. Avg Loss (last 10): 0.5303499966859817 Sat Aug 15 13:40:51 2020\n",
            "Epoch 2 step 159 complete. 236 batches. Avg Loss (last 10): 0.5303499966859817 Sat Aug 15 13:40:51 2020\n",
            "Epoch 2 step 179 complete. 236 batches. Avg Loss (last 10): 0.5303499966859817 Sat Aug 15 13:40:51 2020\n",
            "Epoch 2 step 199 complete. 236 batches. Avg Loss (last 10): 0.5303499966859817 Sat Aug 15 13:40:51 2020\n",
            "Epoch 3 step 19 complete. 40 batches. Avg Loss (last 10): 0.5176169037818908 Sat Aug 15 13:42:30 2020\n",
            "Epoch 3 step 39 complete. 80 batches. Avg Loss (last 10): 0.473244309425354 Sat Aug 15 13:44:14 2020\n",
            "Epoch 3 step 59 complete. 120 batches. Avg Loss (last 10): 0.605391901731491 Sat Aug 15 13:45:54 2020\n",
            "Epoch 3 step 79 complete. 160 batches. Avg Loss (last 10): 0.6459649085998536 Sat Aug 15 13:47:35 2020\n",
            "Epoch 3 step 99 complete. 200 batches. Avg Loss (last 10): 0.5013306438922882 Sat Aug 15 13:49:16 2020\n",
            "Epoch 3 step 119 complete. 239 batches. Avg Loss (last 10): 0.5782010197639466 Sat Aug 15 13:50:55 2020\n",
            "Epoch 3 step 139 complete. 239 batches. Avg Loss (last 10): 0.5782010197639466 Sat Aug 15 13:50:55 2020\n",
            "Epoch 3 step 159 complete. 239 batches. Avg Loss (last 10): 0.5782010197639466 Sat Aug 15 13:50:55 2020\n",
            "Epoch 3 step 179 complete. 239 batches. Avg Loss (last 10): 0.5782010197639466 Sat Aug 15 13:50:55 2020\n",
            "Epoch 3 step 199 complete. 239 batches. Avg Loss (last 10): 0.5782010197639466 Sat Aug 15 13:50:55 2020\n",
            "Epoch 4 step 19 complete. 40 batches. Avg Loss (last 10): 0.6342156380414963 Sat Aug 15 13:52:38 2020\n",
            "Epoch 4 step 39 complete. 80 batches. Avg Loss (last 10): 0.5585029512643814 Sat Aug 15 13:54:25 2020\n",
            "Epoch 4 step 59 complete. 120 batches. Avg Loss (last 10): 0.5096660852432251 Sat Aug 15 13:55:59 2020\n",
            "Epoch 4 step 79 complete. 160 batches. Avg Loss (last 10): 0.6401405513286591 Sat Aug 15 13:57:40 2020\n",
            "Epoch 4 step 99 complete. 200 batches. Avg Loss (last 10): 0.5893275260925293 Sat Aug 15 13:59:24 2020\n",
            "Epoch 4 step 119 complete. 231 batches. Avg Loss (last 10): 0.6083437979221344 Sat Aug 15 14:00:47 2020\n",
            "Epoch 4 step 139 complete. 231 batches. Avg Loss (last 10): 0.6083437979221344 Sat Aug 15 14:00:47 2020\n",
            "Epoch 4 step 159 complete. 231 batches. Avg Loss (last 10): 0.6083437979221344 Sat Aug 15 14:00:47 2020\n",
            "Epoch 4 step 179 complete. 231 batches. Avg Loss (last 10): 0.6083437979221344 Sat Aug 15 14:00:47 2020\n",
            "Epoch 4 step 199 complete. 231 batches. Avg Loss (last 10): 0.6083437979221344 Sat Aug 15 14:00:47 2020\n"
          ],
          "name": "stdout"
        }
      ]
    },
    {
      "cell_type": "code",
      "metadata": {
        "id": "sUPLKXaHyW3j",
        "colab_type": "code",
        "colab": {
          "base_uri": "https://localhost:8080/",
          "height": 282
        },
        "outputId": "f6ddf95a-a100-4d85-a909-2eb430972f8d"
      },
      "source": [
        "pd.Series(loss_list).plot()"
      ],
      "execution_count": 9,
      "outputs": [
        {
          "output_type": "execute_result",
          "data": {
            "text/plain": [
              "<matplotlib.axes._subplots.AxesSubplot at 0x7f12ba2da160>"
            ]
          },
          "metadata": {
            "tags": []
          },
          "execution_count": 9
        },
        {
          "output_type": "display_data",
          "data": {
            "image/png": "[encoded data removed]",
            "text/plain": [
              "<Figure size 432x288 with 1 Axes>"
            ]
          },
          "metadata": {
            "tags": [],
            "needs_background": "light"
          }
        }
      ]
    },
    {
      "cell_type": "code",
      "metadata": {
        "id": "78GI6gxoCNNZ",
        "colab_type": "code",
        "colab": {
          "base_uri": "https://localhost:8080/",
          "height": 357
        },
        "outputId": "f3bdb0a4-82ce-4583-a6aa-1fb984430626"
      },
      "source": [
        "[(y.sum(), len(y)) for y in y_list[-20:]]"
      ],
      "execution_count": 10,
      "outputs": [
        {
          "output_type": "execute_result",
          "data": {
            "text/plain": [
              "[(4, 8),\n",
              " (4, 8),\n",
              " (2, 8),\n",
              " (2, 8),\n",
              " (4, 8),\n",
              " (3, 8),\n",
              " (2, 8),\n",
              " (3, 8),\n",
              " (2, 8),\n",
              " (5, 8),\n",
              " (1, 8),\n",
              " (2, 8),\n",
              " (4, 8),\n",
              " (3, 8),\n",
              " (3, 8),\n",
              " (3, 8),\n",
              " (6, 8),\n",
              " (3, 8),\n",
              " (3, 8),\n",
              " (1, 8)]"
            ]
          },
          "metadata": {
            "tags": []
          },
          "execution_count": 10
        }
      ]
    },
    {
      "cell_type": "code",
      "metadata": {
        "id": "H-zE-0YmGWSl",
        "colab_type": "code",
        "colab": {
          "base_uri": "https://localhost:8080/",
          "height": 153
        },
        "outputId": "96c6e216-8d63-44e6-9fb9-8e9531d03e52"
      },
      "source": [
        "pred_list[-8]"
      ],
      "execution_count": 11,
      "outputs": [
        {
          "output_type": "execute_result",
          "data": {
            "text/plain": [
              "array([[0.19384146],\n",
              "       [0.46592003],\n",
              "       [0.55853444],\n",
              "       [0.06432846],\n",
              "       [0.39868188],\n",
              "       [0.44328785],\n",
              "       [0.3865111 ],\n",
              "       [0.37048388]], dtype=float32)"
            ]
          },
          "metadata": {
            "tags": []
          },
          "execution_count": 11
        }
      ]
    },
    {
      "cell_type": "code",
      "metadata": {
        "id": "rz5fMcDmXQGw",
        "colab_type": "code",
        "colab": {
          "base_uri": "https://localhost:8080/",
          "height": 153
        },
        "outputId": "670b44cd-6b83-414c-e62a-1a86a366b6b4"
      },
      "source": [
        "y_list[-8]"
      ],
      "execution_count": 12,
      "outputs": [
        {
          "output_type": "execute_result",
          "data": {
            "text/plain": [
              "array([[1],\n",
              "       [0],\n",
              "       [1],\n",
              "       [0],\n",
              "       [1],\n",
              "       [0],\n",
              "       [1],\n",
              "       [0]])"
            ]
          },
          "metadata": {
            "tags": []
          },
          "execution_count": 12
        }
      ]
    },
    {
      "cell_type": "code",
      "metadata": {
        "tags": [],
        "id": "AvfCe_EryW3z",
        "colab_type": "code",
        "colab": {
          "base_uri": "https://localhost:8080/",
          "height": 282
        },
        "outputId": "7c59bd27-73d1-45ad-ca5c-b2d7084992f5"
      },
      "source": [
        "pd.Series(mds[1][0][0].view(-1,).to('cpu').numpy()).hist() # Are we normalizing with the correct values?"
      ],
      "execution_count": 14,
      "outputs": [
        {
          "output_type": "execute_result",
          "data": {
            "text/plain": [
              "<matplotlib.axes._subplots.AxesSubplot at 0x7f12a2146a90>"
            ]
          },
          "metadata": {
            "tags": []
          },
          "execution_count": 14
        },
        {
          "output_type": "display_data",
          "data": {
            "image/png": "[encoded data removed]",
            "text/plain": [
              "<Figure size 432x288 with 1 Axes>"
            ]
          },
          "metadata": {
            "tags": [],
            "needs_background": "light"
          }
        }
      ]
    },
    {
      "cell_type": "code",
      "metadata": {
        "id": "iMQ05gzNYCYx",
        "colab_type": "code",
        "colab": {
          "base_uri": "https://localhost:8080/",
          "height": 528
        },
        "outputId": "e84ba2c8-1f14-487e-e281-17d63c1d4c1d"
      },
      "source": [
        "#Decrease the learn rate to .001\n",
        "learn_rate=0.001\n",
        "optimizer = Adam(model.parameters(), lr=learn_rate)\n",
        "EPOCHS = 5\n",
        "STEPS=120\n",
        "for i in range(EPOCHS):\n",
        "  batch_num=0\n",
        "  for s in range(STEPS):\n",
        "    for batch in mdl:\n",
        "      batch_num+=1\n",
        "      assert model.training\n",
        "      #zero the optimizer\n",
        "      optimizer.zero_grad()\n",
        "\n",
        "      x, name, y = batch\n",
        "      x=x.to(default_device)\n",
        "      y=y.to(default_device)\n",
        "      #with torch.no_grad():\n",
        "      #    model.eval()\n",
        "      #    print(model.predict(x))\n",
        "      #    model.train()\n",
        "      pred=sigmoid(model(x))\n",
        "      loss = loss_bce(pred,y.float())\n",
        "      loss.backward()\n",
        "      optimizer.step()\n",
        "\n",
        "      y_list.append(y.to('cpu').numpy())\n",
        "      pred_list.append(pred.detach().to('cpu').numpy())\n",
        "      loss_list.append(loss.item())\n",
        "    if s%20==19:\n",
        "      print('Epoch', i,'step', s, 'complete.',batch_num, 'batches. Avg Loss (last 240):', sum(loss_list[-240:])/240, ctime())\n",
        "  mds = MelanomaDatasetCL(gcs_path=train_recs, train = True, resolution=500, subsample=[0.04,1])\n",
        "  mdl = DataLoader(mds, batch_size = 8, shuffle=False)"
      ],
      "execution_count": 16,
      "outputs": [
        {
          "output_type": "error",
          "ename": "NotFoundError",
          "evalue": "ignored",
          "traceback": [
            "\u001b[0;31m---------------------------------------------------------------------------\u001b[0m",
            "\u001b[0;31mNotFoundError\u001b[0m                             Traceback (most recent call last)",
            "\u001b[0;32m/usr/local/lib/python3.6/dist-packages/tensorflow/python/eager/context.py\u001b[0m in \u001b[0;36mexecution_mode\u001b[0;34m(mode)\u001b[0m\n\u001b[1;32m   2101\u001b[0m       \u001b[0mctx\u001b[0m\u001b[0;34m.\u001b[0m\u001b[0mexecutor\u001b[0m \u001b[0;34m=\u001b[0m \u001b[0mexecutor_new\u001b[0m\u001b[0;34m\u001b[0m\u001b[0;34m\u001b[0m\u001b[0m\n\u001b[0;32m-> 2102\u001b[0;31m       \u001b[0;32myield\u001b[0m\u001b[0;34m\u001b[0m\u001b[0;34m\u001b[0m\u001b[0m\n\u001b[0m\u001b[1;32m   2103\u001b[0m     \u001b[0;32mfinally\u001b[0m\u001b[0;34m:\u001b[0m\u001b[0;34m\u001b[0m\u001b[0;34m\u001b[0m\u001b[0m\n",
            "\u001b[0;32m/usr/local/lib/python3.6/dist-packages/tensorflow/python/data/ops/iterator_ops.py\u001b[0m in \u001b[0;36m_next_internal\u001b[0;34m(self)\u001b[0m\n\u001b[1;32m    757\u001b[0m             \u001b[0moutput_types\u001b[0m\u001b[0;34m=\u001b[0m\u001b[0mself\u001b[0m\u001b[0;34m.\u001b[0m\u001b[0m_flat_output_types\u001b[0m\u001b[0;34m,\u001b[0m\u001b[0;34m\u001b[0m\u001b[0;34m\u001b[0m\u001b[0m\n\u001b[0;32m--> 758\u001b[0;31m             output_shapes=self._flat_output_shapes)\n\u001b[0m\u001b[1;32m    759\u001b[0m \u001b[0;34m\u001b[0m\u001b[0m\n",
            "\u001b[0;32m/usr/local/lib/python3.6/dist-packages/tensorflow/python/ops/gen_dataset_ops.py\u001b[0m in \u001b[0;36miterator_get_next\u001b[0;34m(iterator, output_types, output_shapes, name)\u001b[0m\n\u001b[1;32m   2609\u001b[0m     \u001b[0;32mexcept\u001b[0m \u001b[0m_core\u001b[0m\u001b[0;34m.\u001b[0m\u001b[0m_NotOkStatusException\u001b[0m \u001b[0;32mas\u001b[0m \u001b[0me\u001b[0m\u001b[0;34m:\u001b[0m\u001b[0;34m\u001b[0m\u001b[0;34m\u001b[0m\u001b[0m\n\u001b[0;32m-> 2610\u001b[0;31m       \u001b[0m_ops\u001b[0m\u001b[0;34m.\u001b[0m\u001b[0mraise_from_not_ok_status\u001b[0m\u001b[0;34m(\u001b[0m\u001b[0me\u001b[0m\u001b[0;34m,\u001b[0m \u001b[0mname\u001b[0m\u001b[0;34m)\u001b[0m\u001b[0;34m\u001b[0m\u001b[0;34m\u001b[0m\u001b[0m\n\u001b[0m\u001b[1;32m   2611\u001b[0m     \u001b[0;32mexcept\u001b[0m \u001b[0m_core\u001b[0m\u001b[0;34m.\u001b[0m\u001b[0m_FallbackException\u001b[0m\u001b[0;34m:\u001b[0m\u001b[0;34m\u001b[0m\u001b[0;34m\u001b[0m\u001b[0m\n",
            "\u001b[0;32m/usr/local/lib/python3.6/dist-packages/tensorflow/python/framework/ops.py\u001b[0m in \u001b[0;36mraise_from_not_ok_status\u001b[0;34m(e, name)\u001b[0m\n\u001b[1;32m   6842\u001b[0m   \u001b[0;31m# pylint: disable=protected-access\u001b[0m\u001b[0;34m\u001b[0m\u001b[0;34m\u001b[0m\u001b[0;34m\u001b[0m\u001b[0m\n\u001b[0;32m-> 6843\u001b[0;31m   \u001b[0msix\u001b[0m\u001b[0;34m.\u001b[0m\u001b[0mraise_from\u001b[0m\u001b[0;34m(\u001b[0m\u001b[0mcore\u001b[0m\u001b[0;34m.\u001b[0m\u001b[0m_status_to_exception\u001b[0m\u001b[0;34m(\u001b[0m\u001b[0me\u001b[0m\u001b[0;34m.\u001b[0m\u001b[0mcode\u001b[0m\u001b[0;34m,\u001b[0m \u001b[0mmessage\u001b[0m\u001b[0;34m)\u001b[0m\u001b[0;34m,\u001b[0m \u001b[0;32mNone\u001b[0m\u001b[0;34m)\u001b[0m\u001b[0;34m\u001b[0m\u001b[0;34m\u001b[0m\u001b[0m\n\u001b[0m\u001b[1;32m   6844\u001b[0m   \u001b[0;31m# pylint: enable=protected-access\u001b[0m\u001b[0;34m\u001b[0m\u001b[0;34m\u001b[0m\u001b[0;34m\u001b[0m\u001b[0m\n",
            "\u001b[0;32m/usr/local/lib/python3.6/dist-packages/six.py\u001b[0m in \u001b[0;36mraise_from\u001b[0;34m(value, from_value)\u001b[0m\n",
            "\u001b[0;31mNotFoundError\u001b[0m: Error executing an HTTP request: HTTP response code 404 with body '<?xml version='1.0' encoding='UTF-8'?><Error><Code>NoSuchKey</Code><Message>The specified key does not exist.</Message><Details>No such object: kds-a2a40e123e228c885db15ca1b3bdbed0722555939bb3839437cc12ac/tfrecords/train01-2071.tfrec</Details></Error>'\n\t when reading gs://kds-a2a40e123e228c885db15ca1b3bdbed0722555939bb3839437cc12ac/tfrecords/train01-2071.tfrec [Op:IteratorGetNext]",
            "\nDuring handling of the above exception, another exception occurred:\n",
            "\u001b[0;31mNotFoundError\u001b[0m                             Traceback (most recent call last)",
            "\u001b[0;32m<ipython-input-16-45cc64086301>\u001b[0m in \u001b[0;36m<module>\u001b[0;34m()\u001b[0m\n\u001b[1;32m      7\u001b[0m   \u001b[0mbatch_num\u001b[0m\u001b[0;34m=\u001b[0m\u001b[0;36m0\u001b[0m\u001b[0;34m\u001b[0m\u001b[0;34m\u001b[0m\u001b[0m\n\u001b[1;32m      8\u001b[0m   \u001b[0;32mfor\u001b[0m \u001b[0ms\u001b[0m \u001b[0;32min\u001b[0m \u001b[0mrange\u001b[0m\u001b[0;34m(\u001b[0m\u001b[0mSTEPS\u001b[0m\u001b[0;34m)\u001b[0m\u001b[0;34m:\u001b[0m\u001b[0;34m\u001b[0m\u001b[0;34m\u001b[0m\u001b[0m\n\u001b[0;32m----> 9\u001b[0;31m     \u001b[0;32mfor\u001b[0m \u001b[0mbatch\u001b[0m \u001b[0;32min\u001b[0m \u001b[0mmdl\u001b[0m\u001b[0;34m:\u001b[0m\u001b[0;34m\u001b[0m\u001b[0;34m\u001b[0m\u001b[0m\n\u001b[0m\u001b[1;32m     10\u001b[0m       \u001b[0mbatch_num\u001b[0m\u001b[0;34m+=\u001b[0m\u001b[0;36m1\u001b[0m\u001b[0;34m\u001b[0m\u001b[0;34m\u001b[0m\u001b[0m\n\u001b[1;32m     11\u001b[0m       \u001b[0;32massert\u001b[0m \u001b[0mmodel\u001b[0m\u001b[0;34m.\u001b[0m\u001b[0mtraining\u001b[0m\u001b[0;34m\u001b[0m\u001b[0;34m\u001b[0m\u001b[0m\n",
            "\u001b[0;32m/usr/local/lib/python3.6/dist-packages/torch/utils/data/dataloader.py\u001b[0m in \u001b[0;36m__next__\u001b[0;34m(self)\u001b[0m\n\u001b[1;32m    361\u001b[0m \u001b[0;34m\u001b[0m\u001b[0m\n\u001b[1;32m    362\u001b[0m     \u001b[0;32mdef\u001b[0m \u001b[0m__next__\u001b[0m\u001b[0;34m(\u001b[0m\u001b[0mself\u001b[0m\u001b[0;34m)\u001b[0m\u001b[0;34m:\u001b[0m\u001b[0;34m\u001b[0m\u001b[0;34m\u001b[0m\u001b[0m\n\u001b[0;32m--> 363\u001b[0;31m         \u001b[0mdata\u001b[0m \u001b[0;34m=\u001b[0m \u001b[0mself\u001b[0m\u001b[0;34m.\u001b[0m\u001b[0m_next_data\u001b[0m\u001b[0;34m(\u001b[0m\u001b[0;34m)\u001b[0m\u001b[0;34m\u001b[0m\u001b[0;34m\u001b[0m\u001b[0m\n\u001b[0m\u001b[1;32m    364\u001b[0m         \u001b[0mself\u001b[0m\u001b[0;34m.\u001b[0m\u001b[0m_num_yielded\u001b[0m \u001b[0;34m+=\u001b[0m \u001b[0;36m1\u001b[0m\u001b[0;34m\u001b[0m\u001b[0;34m\u001b[0m\u001b[0m\n\u001b[1;32m    365\u001b[0m         \u001b[0;32mif\u001b[0m \u001b[0mself\u001b[0m\u001b[0;34m.\u001b[0m\u001b[0m_dataset_kind\u001b[0m \u001b[0;34m==\u001b[0m \u001b[0m_DatasetKind\u001b[0m\u001b[0;34m.\u001b[0m\u001b[0mIterable\u001b[0m \u001b[0;32mand\u001b[0m\u001b[0;31m \u001b[0m\u001b[0;31m\\\u001b[0m\u001b[0;34m\u001b[0m\u001b[0;34m\u001b[0m\u001b[0m\n",
            "\u001b[0;32m/usr/local/lib/python3.6/dist-packages/torch/utils/data/dataloader.py\u001b[0m in \u001b[0;36m_next_data\u001b[0;34m(self)\u001b[0m\n\u001b[1;32m    401\u001b[0m     \u001b[0;32mdef\u001b[0m \u001b[0m_next_data\u001b[0m\u001b[0;34m(\u001b[0m\u001b[0mself\u001b[0m\u001b[0;34m)\u001b[0m\u001b[0;34m:\u001b[0m\u001b[0;34m\u001b[0m\u001b[0;34m\u001b[0m\u001b[0m\n\u001b[1;32m    402\u001b[0m         \u001b[0mindex\u001b[0m \u001b[0;34m=\u001b[0m \u001b[0mself\u001b[0m\u001b[0;34m.\u001b[0m\u001b[0m_next_index\u001b[0m\u001b[0;34m(\u001b[0m\u001b[0;34m)\u001b[0m  \u001b[0;31m# may raise StopIteration\u001b[0m\u001b[0;34m\u001b[0m\u001b[0;34m\u001b[0m\u001b[0m\n\u001b[0;32m--> 403\u001b[0;31m         \u001b[0mdata\u001b[0m \u001b[0;34m=\u001b[0m \u001b[0mself\u001b[0m\u001b[0;34m.\u001b[0m\u001b[0m_dataset_fetcher\u001b[0m\u001b[0;34m.\u001b[0m\u001b[0mfetch\u001b[0m\u001b[0;34m(\u001b[0m\u001b[0mindex\u001b[0m\u001b[0;34m)\u001b[0m  \u001b[0;31m# may raise StopIteration\u001b[0m\u001b[0;34m\u001b[0m\u001b[0;34m\u001b[0m\u001b[0m\n\u001b[0m\u001b[1;32m    404\u001b[0m         \u001b[0;32mif\u001b[0m \u001b[0mself\u001b[0m\u001b[0;34m.\u001b[0m\u001b[0m_pin_memory\u001b[0m\u001b[0;34m:\u001b[0m\u001b[0;34m\u001b[0m\u001b[0;34m\u001b[0m\u001b[0m\n\u001b[1;32m    405\u001b[0m             \u001b[0mdata\u001b[0m \u001b[0;34m=\u001b[0m \u001b[0m_utils\u001b[0m\u001b[0;34m.\u001b[0m\u001b[0mpin_memory\u001b[0m\u001b[0;34m.\u001b[0m\u001b[0mpin_memory\u001b[0m\u001b[0;34m(\u001b[0m\u001b[0mdata\u001b[0m\u001b[0;34m)\u001b[0m\u001b[0;34m\u001b[0m\u001b[0;34m\u001b[0m\u001b[0m\n",
            "\u001b[0;32m/usr/local/lib/python3.6/dist-packages/torch/utils/data/_utils/fetch.py\u001b[0m in \u001b[0;36mfetch\u001b[0;34m(self, possibly_batched_index)\u001b[0m\n\u001b[1;32m     42\u001b[0m     \u001b[0;32mdef\u001b[0m \u001b[0mfetch\u001b[0m\u001b[0;34m(\u001b[0m\u001b[0mself\u001b[0m\u001b[0;34m,\u001b[0m \u001b[0mpossibly_batched_index\u001b[0m\u001b[0;34m)\u001b[0m\u001b[0;34m:\u001b[0m\u001b[0;34m\u001b[0m\u001b[0;34m\u001b[0m\u001b[0m\n\u001b[1;32m     43\u001b[0m         \u001b[0;32mif\u001b[0m \u001b[0mself\u001b[0m\u001b[0;34m.\u001b[0m\u001b[0mauto_collation\u001b[0m\u001b[0;34m:\u001b[0m\u001b[0;34m\u001b[0m\u001b[0;34m\u001b[0m\u001b[0m\n\u001b[0;32m---> 44\u001b[0;31m             \u001b[0mdata\u001b[0m \u001b[0;34m=\u001b[0m \u001b[0;34m[\u001b[0m\u001b[0mself\u001b[0m\u001b[0;34m.\u001b[0m\u001b[0mdataset\u001b[0m\u001b[0;34m[\u001b[0m\u001b[0midx\u001b[0m\u001b[0;34m]\u001b[0m \u001b[0;32mfor\u001b[0m \u001b[0midx\u001b[0m \u001b[0;32min\u001b[0m \u001b[0mpossibly_batched_index\u001b[0m\u001b[0;34m]\u001b[0m\u001b[0;34m\u001b[0m\u001b[0;34m\u001b[0m\u001b[0m\n\u001b[0m\u001b[1;32m     45\u001b[0m         \u001b[0;32melse\u001b[0m\u001b[0;34m:\u001b[0m\u001b[0;34m\u001b[0m\u001b[0;34m\u001b[0m\u001b[0m\n\u001b[1;32m     46\u001b[0m             \u001b[0mdata\u001b[0m \u001b[0;34m=\u001b[0m \u001b[0mself\u001b[0m\u001b[0;34m.\u001b[0m\u001b[0mdataset\u001b[0m\u001b[0;34m[\u001b[0m\u001b[0mpossibly_batched_index\u001b[0m\u001b[0;34m]\u001b[0m\u001b[0;34m\u001b[0m\u001b[0;34m\u001b[0m\u001b[0m\n",
            "\u001b[0;32m/usr/local/lib/python3.6/dist-packages/torch/utils/data/_utils/fetch.py\u001b[0m in \u001b[0;36m<listcomp>\u001b[0;34m(.0)\u001b[0m\n\u001b[1;32m     42\u001b[0m     \u001b[0;32mdef\u001b[0m \u001b[0mfetch\u001b[0m\u001b[0;34m(\u001b[0m\u001b[0mself\u001b[0m\u001b[0;34m,\u001b[0m \u001b[0mpossibly_batched_index\u001b[0m\u001b[0;34m)\u001b[0m\u001b[0;34m:\u001b[0m\u001b[0;34m\u001b[0m\u001b[0;34m\u001b[0m\u001b[0m\n\u001b[1;32m     43\u001b[0m         \u001b[0;32mif\u001b[0m \u001b[0mself\u001b[0m\u001b[0;34m.\u001b[0m\u001b[0mauto_collation\u001b[0m\u001b[0;34m:\u001b[0m\u001b[0;34m\u001b[0m\u001b[0;34m\u001b[0m\u001b[0m\n\u001b[0;32m---> 44\u001b[0;31m             \u001b[0mdata\u001b[0m \u001b[0;34m=\u001b[0m \u001b[0;34m[\u001b[0m\u001b[0mself\u001b[0m\u001b[0;34m.\u001b[0m\u001b[0mdataset\u001b[0m\u001b[0;34m[\u001b[0m\u001b[0midx\u001b[0m\u001b[0;34m]\u001b[0m \u001b[0;32mfor\u001b[0m \u001b[0midx\u001b[0m \u001b[0;32min\u001b[0m \u001b[0mpossibly_batched_index\u001b[0m\u001b[0;34m]\u001b[0m\u001b[0;34m\u001b[0m\u001b[0;34m\u001b[0m\u001b[0m\n\u001b[0m\u001b[1;32m     45\u001b[0m         \u001b[0;32melse\u001b[0m\u001b[0;34m:\u001b[0m\u001b[0;34m\u001b[0m\u001b[0;34m\u001b[0m\u001b[0m\n\u001b[1;32m     46\u001b[0m             \u001b[0mdata\u001b[0m \u001b[0;34m=\u001b[0m \u001b[0mself\u001b[0m\u001b[0;34m.\u001b[0m\u001b[0mdataset\u001b[0m\u001b[0;34m[\u001b[0m\u001b[0mpossibly_batched_index\u001b[0m\u001b[0;34m]\u001b[0m\u001b[0;34m\u001b[0m\u001b[0;34m\u001b[0m\u001b[0m\n",
            "\u001b[0;32m<ipython-input-5-bc54c493eff5>\u001b[0m in \u001b[0;36m__getitem__\u001b[0;34m(self, idx)\u001b[0m\n\u001b[1;32m    110\u001b[0m         \u001b[0;32mif\u001b[0m \u001b[0mself\u001b[0m\u001b[0;34m.\u001b[0m\u001b[0msubsample\u001b[0m\u001b[0;34m:\u001b[0m\u001b[0;34m\u001b[0m\u001b[0;34m\u001b[0m\u001b[0m\n\u001b[1;32m    111\u001b[0m           \u001b[0;32mwhile\u001b[0m \u001b[0mnp\u001b[0m\u001b[0;34m.\u001b[0m\u001b[0mrandom\u001b[0m\u001b[0;34m.\u001b[0m\u001b[0mrandom\u001b[0m\u001b[0;34m(\u001b[0m\u001b[0;34m)\u001b[0m\u001b[0;34m>\u001b[0m\u001b[0mself\u001b[0m\u001b[0;34m.\u001b[0m\u001b[0msubsample\u001b[0m\u001b[0;34m[\u001b[0m\u001b[0mlabel\u001b[0m\u001b[0;34m]\u001b[0m\u001b[0;34m:\u001b[0m\u001b[0;34m\u001b[0m\u001b[0;34m\u001b[0m\u001b[0m\n\u001b[0;32m--> 112\u001b[0;31m             \u001b[0mnext_data\u001b[0m\u001b[0;34m=\u001b[0m\u001b[0mnext\u001b[0m\u001b[0;34m(\u001b[0m\u001b[0mself\u001b[0m\u001b[0;34m.\u001b[0m\u001b[0mdata_iter\u001b[0m\u001b[0;34m)\u001b[0m\u001b[0;34m\u001b[0m\u001b[0;34m\u001b[0m\u001b[0m\n\u001b[0m\u001b[1;32m    113\u001b[0m             \u001b[0mlabel\u001b[0m\u001b[0;34m=\u001b[0m\u001b[0mnext_data\u001b[0m\u001b[0;34m[\u001b[0m\u001b[0;34m'target'\u001b[0m\u001b[0;34m]\u001b[0m\u001b[0;34m\u001b[0m\u001b[0;34m\u001b[0m\u001b[0m\n\u001b[1;32m    114\u001b[0m         \u001b[0mname\u001b[0m\u001b[0;34m=\u001b[0m\u001b[0mnext_data\u001b[0m\u001b[0;34m[\u001b[0m\u001b[0;34m'image_name'\u001b[0m\u001b[0;34m]\u001b[0m\u001b[0;34m\u001b[0m\u001b[0;34m\u001b[0m\u001b[0m\n",
            "\u001b[0;32m/usr/local/lib/python3.6/dist-packages/tensorflow/python/data/ops/dataset_ops.py\u001b[0m in \u001b[0;36m__next__\u001b[0;34m(self)\u001b[0m\n\u001b[1;32m   3781\u001b[0m \u001b[0;34m\u001b[0m\u001b[0m\n\u001b[1;32m   3782\u001b[0m   \u001b[0;32mdef\u001b[0m \u001b[0m__next__\u001b[0m\u001b[0;34m(\u001b[0m\u001b[0mself\u001b[0m\u001b[0;34m)\u001b[0m\u001b[0;34m:\u001b[0m\u001b[0;34m\u001b[0m\u001b[0;34m\u001b[0m\u001b[0m\n\u001b[0;32m-> 3783\u001b[0;31m     \u001b[0;32mreturn\u001b[0m \u001b[0mself\u001b[0m\u001b[0;34m.\u001b[0m\u001b[0mnext\u001b[0m\u001b[0;34m(\u001b[0m\u001b[0;34m)\u001b[0m\u001b[0;34m\u001b[0m\u001b[0;34m\u001b[0m\u001b[0m\n\u001b[0m\u001b[1;32m   3784\u001b[0m \u001b[0;34m\u001b[0m\u001b[0m\n\u001b[1;32m   3785\u001b[0m \u001b[0;34m\u001b[0m\u001b[0m\n",
            "\u001b[0;32m/usr/local/lib/python3.6/dist-packages/tensorflow/python/data/ops/dataset_ops.py\u001b[0m in \u001b[0;36mnext\u001b[0;34m(self)\u001b[0m\n\u001b[1;32m   3778\u001b[0m \u001b[0;34m\u001b[0m\u001b[0m\n\u001b[1;32m   3779\u001b[0m   \u001b[0;32mdef\u001b[0m \u001b[0mnext\u001b[0m\u001b[0;34m(\u001b[0m\u001b[0mself\u001b[0m\u001b[0;34m)\u001b[0m\u001b[0;34m:\u001b[0m\u001b[0;34m\u001b[0m\u001b[0;34m\u001b[0m\u001b[0m\n\u001b[0;32m-> 3780\u001b[0;31m     \u001b[0;32mreturn\u001b[0m \u001b[0mnest\u001b[0m\u001b[0;34m.\u001b[0m\u001b[0mmap_structure\u001b[0m\u001b[0;34m(\u001b[0m\u001b[0;32mlambda\u001b[0m \u001b[0mx\u001b[0m\u001b[0;34m:\u001b[0m \u001b[0mx\u001b[0m\u001b[0;34m.\u001b[0m\u001b[0mnumpy\u001b[0m\u001b[0;34m(\u001b[0m\u001b[0;34m)\u001b[0m\u001b[0;34m,\u001b[0m \u001b[0mnext\u001b[0m\u001b[0;34m(\u001b[0m\u001b[0mself\u001b[0m\u001b[0;34m.\u001b[0m\u001b[0m_iterator\u001b[0m\u001b[0;34m)\u001b[0m\u001b[0;34m)\u001b[0m\u001b[0;34m\u001b[0m\u001b[0;34m\u001b[0m\u001b[0m\n\u001b[0m\u001b[1;32m   3781\u001b[0m \u001b[0;34m\u001b[0m\u001b[0m\n\u001b[1;32m   3782\u001b[0m   \u001b[0;32mdef\u001b[0m \u001b[0m__next__\u001b[0m\u001b[0;34m(\u001b[0m\u001b[0mself\u001b[0m\u001b[0;34m)\u001b[0m\u001b[0;34m:\u001b[0m\u001b[0;34m\u001b[0m\u001b[0;34m\u001b[0m\u001b[0m\n",
            "\u001b[0;32m/usr/local/lib/python3.6/dist-packages/tensorflow/python/data/ops/iterator_ops.py\u001b[0m in \u001b[0;36m__next__\u001b[0;34m(self)\u001b[0m\n\u001b[1;32m    734\u001b[0m \u001b[0;34m\u001b[0m\u001b[0m\n\u001b[1;32m    735\u001b[0m   \u001b[0;32mdef\u001b[0m \u001b[0m__next__\u001b[0m\u001b[0;34m(\u001b[0m\u001b[0mself\u001b[0m\u001b[0;34m)\u001b[0m\u001b[0;34m:\u001b[0m  \u001b[0;31m# For Python 3 compatibility\u001b[0m\u001b[0;34m\u001b[0m\u001b[0;34m\u001b[0m\u001b[0m\n\u001b[0;32m--> 736\u001b[0;31m     \u001b[0;32mreturn\u001b[0m \u001b[0mself\u001b[0m\u001b[0;34m.\u001b[0m\u001b[0mnext\u001b[0m\u001b[0;34m(\u001b[0m\u001b[0;34m)\u001b[0m\u001b[0;34m\u001b[0m\u001b[0;34m\u001b[0m\u001b[0m\n\u001b[0m\u001b[1;32m    737\u001b[0m \u001b[0;34m\u001b[0m\u001b[0m\n\u001b[1;32m    738\u001b[0m   \u001b[0;32mdef\u001b[0m \u001b[0m_next_internal\u001b[0m\u001b[0;34m(\u001b[0m\u001b[0mself\u001b[0m\u001b[0;34m)\u001b[0m\u001b[0;34m:\u001b[0m\u001b[0;34m\u001b[0m\u001b[0;34m\u001b[0m\u001b[0m\n",
            "\u001b[0;32m/usr/local/lib/python3.6/dist-packages/tensorflow/python/data/ops/iterator_ops.py\u001b[0m in \u001b[0;36mnext\u001b[0;34m(self)\u001b[0m\n\u001b[1;32m    770\u001b[0m   \u001b[0;32mdef\u001b[0m \u001b[0mnext\u001b[0m\u001b[0;34m(\u001b[0m\u001b[0mself\u001b[0m\u001b[0;34m)\u001b[0m\u001b[0;34m:\u001b[0m\u001b[0;34m\u001b[0m\u001b[0;34m\u001b[0m\u001b[0m\n\u001b[1;32m    771\u001b[0m     \u001b[0;32mtry\u001b[0m\u001b[0;34m:\u001b[0m\u001b[0;34m\u001b[0m\u001b[0;34m\u001b[0m\u001b[0m\n\u001b[0;32m--> 772\u001b[0;31m       \u001b[0;32mreturn\u001b[0m \u001b[0mself\u001b[0m\u001b[0;34m.\u001b[0m\u001b[0m_next_internal\u001b[0m\u001b[0;34m(\u001b[0m\u001b[0;34m)\u001b[0m\u001b[0;34m\u001b[0m\u001b[0;34m\u001b[0m\u001b[0m\n\u001b[0m\u001b[1;32m    773\u001b[0m     \u001b[0;32mexcept\u001b[0m \u001b[0merrors\u001b[0m\u001b[0;34m.\u001b[0m\u001b[0mOutOfRangeError\u001b[0m\u001b[0;34m:\u001b[0m\u001b[0;34m\u001b[0m\u001b[0;34m\u001b[0m\u001b[0m\n\u001b[1;32m    774\u001b[0m       \u001b[0;32mraise\u001b[0m \u001b[0mStopIteration\u001b[0m\u001b[0;34m\u001b[0m\u001b[0;34m\u001b[0m\u001b[0m\n",
            "\u001b[0;32m/usr/local/lib/python3.6/dist-packages/tensorflow/python/data/ops/iterator_ops.py\u001b[0m in \u001b[0;36m_next_internal\u001b[0;34m(self)\u001b[0m\n\u001b[1;32m    762\u001b[0m         \u001b[0;32mreturn\u001b[0m \u001b[0mself\u001b[0m\u001b[0;34m.\u001b[0m\u001b[0m_element_spec\u001b[0m\u001b[0;34m.\u001b[0m\u001b[0m_from_compatible_tensor_list\u001b[0m\u001b[0;34m(\u001b[0m\u001b[0mret\u001b[0m\u001b[0;34m)\u001b[0m  \u001b[0;31m# pylint: disable=protected-access\u001b[0m\u001b[0;34m\u001b[0m\u001b[0;34m\u001b[0m\u001b[0m\n\u001b[1;32m    763\u001b[0m       \u001b[0;32mexcept\u001b[0m \u001b[0mAttributeError\u001b[0m\u001b[0;34m:\u001b[0m\u001b[0;34m\u001b[0m\u001b[0;34m\u001b[0m\u001b[0m\n\u001b[0;32m--> 764\u001b[0;31m         \u001b[0;32mreturn\u001b[0m \u001b[0mstructure\u001b[0m\u001b[0;34m.\u001b[0m\u001b[0mfrom_compatible_tensor_list\u001b[0m\u001b[0;34m(\u001b[0m\u001b[0mself\u001b[0m\u001b[0;34m.\u001b[0m\u001b[0m_element_spec\u001b[0m\u001b[0;34m,\u001b[0m \u001b[0mret\u001b[0m\u001b[0;34m)\u001b[0m\u001b[0;34m\u001b[0m\u001b[0;34m\u001b[0m\u001b[0m\n\u001b[0m\u001b[1;32m    765\u001b[0m \u001b[0;34m\u001b[0m\u001b[0m\n\u001b[1;32m    766\u001b[0m   \u001b[0;34m@\u001b[0m\u001b[0mproperty\u001b[0m\u001b[0;34m\u001b[0m\u001b[0;34m\u001b[0m\u001b[0m\n",
            "\u001b[0;32m/usr/lib/python3.6/contextlib.py\u001b[0m in \u001b[0;36m__exit__\u001b[0;34m(self, type, value, traceback)\u001b[0m\n\u001b[1;32m     97\u001b[0m                 \u001b[0mvalue\u001b[0m \u001b[0;34m=\u001b[0m \u001b[0mtype\u001b[0m\u001b[0;34m(\u001b[0m\u001b[0;34m)\u001b[0m\u001b[0;34m\u001b[0m\u001b[0;34m\u001b[0m\u001b[0m\n\u001b[1;32m     98\u001b[0m             \u001b[0;32mtry\u001b[0m\u001b[0;34m:\u001b[0m\u001b[0;34m\u001b[0m\u001b[0;34m\u001b[0m\u001b[0m\n\u001b[0;32m---> 99\u001b[0;31m                 \u001b[0mself\u001b[0m\u001b[0;34m.\u001b[0m\u001b[0mgen\u001b[0m\u001b[0;34m.\u001b[0m\u001b[0mthrow\u001b[0m\u001b[0;34m(\u001b[0m\u001b[0mtype\u001b[0m\u001b[0;34m,\u001b[0m \u001b[0mvalue\u001b[0m\u001b[0;34m,\u001b[0m \u001b[0mtraceback\u001b[0m\u001b[0;34m)\u001b[0m\u001b[0;34m\u001b[0m\u001b[0;34m\u001b[0m\u001b[0m\n\u001b[0m\u001b[1;32m    100\u001b[0m             \u001b[0;32mexcept\u001b[0m \u001b[0mStopIteration\u001b[0m \u001b[0;32mas\u001b[0m \u001b[0mexc\u001b[0m\u001b[0;34m:\u001b[0m\u001b[0;34m\u001b[0m\u001b[0;34m\u001b[0m\u001b[0m\n\u001b[1;32m    101\u001b[0m                 \u001b[0;31m# Suppress StopIteration *unless* it's the same exception that\u001b[0m\u001b[0;34m\u001b[0m\u001b[0;34m\u001b[0m\u001b[0;34m\u001b[0m\u001b[0m\n",
            "\u001b[0;32m/usr/local/lib/python3.6/dist-packages/tensorflow/python/eager/context.py\u001b[0m in \u001b[0;36mexecution_mode\u001b[0;34m(mode)\u001b[0m\n\u001b[1;32m   2103\u001b[0m     \u001b[0;32mfinally\u001b[0m\u001b[0;34m:\u001b[0m\u001b[0;34m\u001b[0m\u001b[0;34m\u001b[0m\u001b[0m\n\u001b[1;32m   2104\u001b[0m       \u001b[0mctx\u001b[0m\u001b[0;34m.\u001b[0m\u001b[0mexecutor\u001b[0m \u001b[0;34m=\u001b[0m \u001b[0mexecutor_old\u001b[0m\u001b[0;34m\u001b[0m\u001b[0;34m\u001b[0m\u001b[0m\n\u001b[0;32m-> 2105\u001b[0;31m       \u001b[0mexecutor_new\u001b[0m\u001b[0;34m.\u001b[0m\u001b[0mwait\u001b[0m\u001b[0;34m(\u001b[0m\u001b[0;34m)\u001b[0m\u001b[0;34m\u001b[0m\u001b[0;34m\u001b[0m\u001b[0m\n\u001b[0m\u001b[1;32m   2106\u001b[0m \u001b[0;34m\u001b[0m\u001b[0m\n\u001b[1;32m   2107\u001b[0m \u001b[0;34m\u001b[0m\u001b[0m\n",
            "\u001b[0;32m/usr/local/lib/python3.6/dist-packages/tensorflow/python/eager/executor.py\u001b[0m in \u001b[0;36mwait\u001b[0;34m(self)\u001b[0m\n\u001b[1;32m     65\u001b[0m   \u001b[0;32mdef\u001b[0m \u001b[0mwait\u001b[0m\u001b[0;34m(\u001b[0m\u001b[0mself\u001b[0m\u001b[0;34m)\u001b[0m\u001b[0;34m:\u001b[0m\u001b[0;34m\u001b[0m\u001b[0;34m\u001b[0m\u001b[0m\n\u001b[1;32m     66\u001b[0m     \u001b[0;34m\"\"\"Waits for ops dispatched in this executor to finish.\"\"\"\u001b[0m\u001b[0;34m\u001b[0m\u001b[0;34m\u001b[0m\u001b[0m\n\u001b[0;32m---> 67\u001b[0;31m     \u001b[0mpywrap_tfe\u001b[0m\u001b[0;34m.\u001b[0m\u001b[0mTFE_ExecutorWaitForAllPendingNodes\u001b[0m\u001b[0;34m(\u001b[0m\u001b[0mself\u001b[0m\u001b[0;34m.\u001b[0m\u001b[0m_handle\u001b[0m\u001b[0;34m)\u001b[0m\u001b[0;34m\u001b[0m\u001b[0;34m\u001b[0m\u001b[0m\n\u001b[0m\u001b[1;32m     68\u001b[0m \u001b[0;34m\u001b[0m\u001b[0m\n\u001b[1;32m     69\u001b[0m   \u001b[0;32mdef\u001b[0m \u001b[0mclear_error\u001b[0m\u001b[0;34m(\u001b[0m\u001b[0mself\u001b[0m\u001b[0;34m)\u001b[0m\u001b[0;34m:\u001b[0m\u001b[0;34m\u001b[0m\u001b[0;34m\u001b[0m\u001b[0m\n",
            "\u001b[0;31mNotFoundError\u001b[0m: Error executing an HTTP request: HTTP response code 404 with body '<?xml version='1.0' encoding='UTF-8'?><Error><Code>NoSuchKey</Code><Message>The specified key does not exist.</Message><Details>No such object: kds-a2a40e123e228c885db15ca1b3bdbed0722555939bb3839437cc12ac/tfrecords/train01-2071.tfrec</Details></Error>'\n\t when reading gs://kds-a2a40e123e228c885db15ca1b3bdbed0722555939bb3839437cc12ac/tfrecords/train01-2071.tfrec"
          ]
        }
      ]
    }
  ]
}