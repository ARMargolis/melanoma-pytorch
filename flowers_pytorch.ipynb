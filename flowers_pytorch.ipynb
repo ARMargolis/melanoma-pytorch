{
  "nbformat": 4,
  "nbformat_minor": 0,
  "metadata": {
    "colab": {
      "name": "flowers-pytorch.ipynb",
      "provenance": [],
      "machine_shape": "hm",
      "authorship_tag": "ABX9TyNzds1STQnEfXTtS4vCPT0r",
      "include_colab_link": true
    },
    "kernelspec": {
      "name": "python3",
      "display_name": "Python 3"
    },
    "accelerator": "GPU"
  },
  "cells": [
    {
      "cell_type": "markdown",
      "metadata": {
        "id": "view-in-github",
        "colab_type": "text"
      },
      "source": [
        "<a href=\"https://colab.research.google.com/github/ARMargolis/melanoma-pytorch/blob/master/flowers_pytorch.ipynb\" target=\"_parent\"><img src=\"https://colab.research.google.com/assets/colab-badge.svg\" alt=\"Open In Colab\"/></a>"
      ]
    },
    {
      "cell_type": "code",
      "metadata": {
        "id": "NbVrHCkJbelC",
        "colab_type": "code",
        "colab": {
          "base_uri": "https://localhost:8080/",
          "height": 34
        },
        "outputId": "96ff1c68-0cd7-4f86-883b-09bb862aa2e7"
      },
      "source": [
        "from google.colab import drive\n",
        "drive.mount('/content/gdrive')"
      ],
      "execution_count": 26,
      "outputs": [
        {
          "output_type": "stream",
          "text": [
            "Drive already mounted at /content/gdrive; to attempt to forcibly remount, call drive.mount(\"/content/gdrive\", force_remount=True).\n"
          ],
          "name": "stdout"
        }
      ]
    },
    {
      "cell_type": "code",
      "metadata": {
        "id": "i8vKNUNnb37U",
        "colab_type": "code",
        "colab": {
          "base_uri": "https://localhost:8080/",
          "height": 34
        },
        "outputId": "224d1298-dc8c-4ff0-878e-ad544d80b829"
      },
      "source": [
        "import tensorflow as tf\n",
        "print(tf.__version__)"
      ],
      "execution_count": 27,
      "outputs": [
        {
          "output_type": "stream",
          "text": [
            "2.3.0\n"
          ],
          "name": "stdout"
        }
      ]
    },
    {
      "cell_type": "code",
      "metadata": {
        "id": "xS9FiQXyb5KL",
        "colab_type": "code",
        "colab": {}
      },
      "source": [
        "# If this code gives an error, open a flower notebook and run \n",
        "# from kaggle_datasets import KaggleDatasets\n",
        "# GCS_DS_PATH = KaggleDatasets().get_gcs_path() # you can list the bucket with \"!gsutil ls $GCS_DS_PATH\"\n",
        "# print(GCS_DS_PATH)\n",
        "GCS_DS_PATH =r'gs://kds-752f9da513db142ac27a6ea4f8367cf796b314d58c3786ab37bec03a'\n",
        "\n",
        "IMAGE_SIZE = [512, 512] # At this size, a GPU will run out of memory. Use the TPU.\n",
        "                        # For GPU training, please select 224 x 224 px image size.\n",
        "EPOCHS = 12\n",
        "BATCH_SIZE = 16 #Using GPU\n",
        "#BATCH_SIZE = 16 * tpu_strategy.num_replicas_in_sync\n",
        "\n",
        "GCS_PATH_SELECT = { # available image sizes\n",
        "    192: GCS_DS_PATH + '/tfrecords-jpeg-192x192',\n",
        "    224: GCS_DS_PATH + '/tfrecords-jpeg-224x224',\n",
        "    331: GCS_DS_PATH + '/tfrecords-jpeg-331x331',\n",
        "    512: GCS_DS_PATH + '/tfrecords-jpeg-512x512'\n",
        "}\n",
        "GCS_PATH = GCS_PATH_SELECT[IMAGE_SIZE[0]]\n",
        "\n",
        "TRAINING_FILENAMES = tf.io.gfile.glob(GCS_PATH + '/train/*.tfrec')\n",
        "VALIDATION_FILENAMES = tf.io.gfile.glob(GCS_PATH + '/val/*.tfrec')\n",
        "#TEST_FILENAMES = tf.io.gfile.glob(GCS_PATH + '/test/*.tfrec') # predictions on this dataset should be submitted for the competition\n",
        "\n",
        "CLASSES = ['pink primrose',    'hard-leaved pocket orchid', 'canterbury bells', 'sweet pea',     'wild geranium',     'tiger lily',           'moon orchid',              'bird of paradise', 'monkshood',        'globe thistle',         # 00 - 09\n",
        "           'snapdragon',       \"colt's foot\",               'king protea',      'spear thistle', 'yellow iris',       'globe-flower',         'purple coneflower',        'peruvian lily',    'balloon flower',   'giant white arum lily', # 10 - 19\n",
        "           'fire lily',        'pincushion flower',         'fritillary',       'red ginger',    'grape hyacinth',    'corn poppy',           'prince of wales feathers', 'stemless gentian', 'artichoke',        'sweet william',         # 20 - 29\n",
        "           'carnation',        'garden phlox',              'love in the mist', 'cosmos',        'alpine sea holly',  'ruby-lipped cattleya', 'cape flower',              'great masterwort', 'siam tulip',       'lenten rose',           # 30 - 39\n",
        "           'barberton daisy',  'daffodil',                  'sword lily',       'poinsettia',    'bolero deep blue',  'wallflower',           'marigold',                 'buttercup',        'daisy',            'common dandelion',      # 40 - 49\n",
        "           'petunia',          'wild pansy',                'primula',          'sunflower',     'lilac hibiscus',    'bishop of llandaff',   'gaura',                    'geranium',         'orange dahlia',    'pink-yellow dahlia',    # 50 - 59\n",
        "           'cautleya spicata', 'japanese anemone',          'black-eyed susan', 'silverbush',    'californian poppy', 'osteospermum',         'spring crocus',            'iris',             'windflower',       'tree poppy',            # 60 - 69\n",
        "           'gazania',          'azalea',                    'water lily',       'rose',          'thorn apple',       'morning glory',        'passion flower',           'lotus',            'toad lily',        'anthurium',             # 70 - 79\n",
        "           'frangipani',       'clematis',                  'hibiscus',         'columbine',     'desert-rose',       'tree mallow',          'magnolia',                 'cyclamen ',        'watercress',       'canna lily',            # 80 - 89\n",
        "           'hippeastrum ',     'bee balm',                  'pink quill',       'foxglove',      'bougainvillea',     'camellia',             'mallow',                   'mexican petunia',  'bromelia',         'blanket flower',        # 90 - 99\n",
        "           'trumpet creeper',  'blackberry lily',           'common tulip',     'wild rose']                                                                                                                                               # 100 - 102"
      ],
      "execution_count": 28,
      "outputs": []
    },
    {
      "cell_type": "code",
      "metadata": {
        "id": "Pj4qPHfqb5TK",
        "colab_type": "code",
        "colab": {
          "base_uri": "https://localhost:8080/",
          "height": 34
        },
        "outputId": "5548c6cc-6109-40e2-b619-3af0869103c5"
      },
      "source": [
        "import re, numpy as np\n",
        "\n",
        "def decode_image(image_data):\n",
        "    image = tf.image.decode_jpeg(image_data, channels=3)\n",
        "    image = tf.cast(image, tf.float32) / 255.0  # convert image to floats in [0, 1] range\n",
        "    image = tf.reshape(image, [*IMAGE_SIZE, 3]) # explicit size needed for TPU\n",
        "    return image\n",
        "\n",
        "def read_labeled_tfrecord(example):\n",
        "    LABELED_TFREC_FORMAT = {\n",
        "        \"image\": tf.io.FixedLenFeature([], tf.string), # tf.string means bytestring\n",
        "        \"class\": tf.io.FixedLenFeature([], tf.int64),  # shape [] means single element\n",
        "    }\n",
        "    example = tf.io.parse_single_example(example, LABELED_TFREC_FORMAT)\n",
        "    image = decode_image(example['image'])\n",
        "    label = tf.cast(example['class'], tf.int32)\n",
        "    return image, label # returns a dataset of (image, label) pairs\n",
        "\n",
        "def read_unlabeled_tfrecord(example):\n",
        "    UNLABELED_TFREC_FORMAT = {\n",
        "        \"image\": tf.io.FixedLenFeature([], tf.string), # tf.string means bytestring\n",
        "        \"id\": tf.io.FixedLenFeature([], tf.string),  # shape [] means single element\n",
        "        # class is missing, this competitions's challenge is to predict flower classes for the test dataset\n",
        "    }\n",
        "    example = tf.io.parse_single_example(example, UNLABELED_TFREC_FORMAT)\n",
        "    image = decode_image(example['image'])\n",
        "    idnum = example['id']\n",
        "    return image, idnum # returns a dataset of image(s)\n",
        "\n",
        "def load_dataset(filenames, labeled=True, ordered=False):\n",
        "    # Read from TFRecords. For optimal performance, reading from multiple files at once and\n",
        "    # disregarding data order. Order does not matter since we will be shuffling the data anyway.\n",
        "\n",
        "    ignore_order = tf.data.Options()\n",
        "    if not ordered:\n",
        "        ignore_order.experimental_deterministic = False # disable order, increase speed\n",
        "\n",
        "    dataset = tf.data.TFRecordDataset(filenames) # automatically interleaves reads from multiple files\n",
        "    #dataset = tf.data.TFRecordDataset(filenames, num_parallel_reads=AUTO) # automatically interleaves reads from multiple files\n",
        "    dataset = dataset.with_options(ignore_order) # uses data as soon as it streams in, rather than in its original order\n",
        "    dataset = dataset.map(read_labeled_tfrecord if labeled else read_unlabeled_tfrecord)\n",
        "    #dataset = dataset.map(read_labeled_tfrecord if labeled else read_unlabeled_tfrecord, num_parallel_calls=AUTO)\n",
        "    # returns a dataset of (image, label) pairs if labeled=True or (image, id) pairs if labeled=False\n",
        "    return dataset\n",
        "\n",
        "def data_augment(image, label):\n",
        "    # data augmentation. Thanks to the dataset.prefetch(AUTO) statement in the next function (below),\n",
        "    # this happens essentially for free on TPU. Data pipeline code is executed on the \"CPU\" part\n",
        "    # of the TPU while the TPU itself is computing gradients.\n",
        "    image = tf.image.random_flip_left_right(image)\n",
        "    #image = tf.image.random_saturation(image, 0, 2)\n",
        "    return image, label   \n",
        "\n",
        "def get_training_dataset():\n",
        "    dataset = load_dataset(TRAINING_FILENAMES, labeled=True)\n",
        "    dataset = dataset.map(data_augment)\n",
        "    #dataset = dataset.map(data_augment, num_parallel_calls=AUTO)\n",
        "    dataset = dataset.repeat() # the training dataset must repeat for several epochs\n",
        "    dataset = dataset.shuffle(2048, seed=42)\n",
        "    dataset = dataset.batch(BATCH_SIZE)\n",
        "    #dataset = dataset.prefetch(AUTO) # prefetch next batch while training (autotune prefetch buffer size)\n",
        "    return dataset\n",
        "\n",
        "def get_validation_dataset(ordered=False):\n",
        "    dataset = load_dataset(VALIDATION_FILENAMES, labeled=True, ordered=ordered)\n",
        "    dataset = dataset.batch(BATCH_SIZE)\n",
        "    dataset = dataset.cache()\n",
        "    #dataset = dataset.prefetch(AUTO) # prefetch next batch while training (autotune prefetch buffer size)\n",
        "    return dataset\n",
        "\n",
        "def get_test_dataset(ordered=False):\n",
        "    dataset = load_dataset(TEST_FILENAMES, labeled=False, ordered=ordered)\n",
        "    dataset = dataset.batch(BATCH_SIZE)\n",
        "    #dataset = dataset.prefetch(AUTO) # prefetch next batch while training (autotune prefetch buffer size)\n",
        "    return dataset\n",
        "\n",
        "def count_data_items(filenames):\n",
        "    # the number of data items is written in the name of the .tfrec files, i.e. flowers00-230.tfrec = 230 data items\n",
        "    n = [int(re.compile(r\"-([0-9]*)\\.\").search(filename).group(1)) for filename in filenames]\n",
        "    return np.sum(n)\n",
        "\n",
        "NUM_TRAINING_IMAGES = count_data_items(TRAINING_FILENAMES)\n",
        "NUM_VALIDATION_IMAGES = count_data_items(VALIDATION_FILENAMES)\n",
        "#NUM_TEST_IMAGES = count_data_items(TEST_FILENAMES)\n",
        "#STEPS_PER_EPOCH = NUM_TRAINING_IMAGES // BATCH_SIZE\n",
        "print('Dataset: {} training images, {} validation images'.format(NUM_TRAINING_IMAGES, NUM_VALIDATION_IMAGES))"
      ],
      "execution_count": 29,
      "outputs": [
        {
          "output_type": "stream",
          "text": [
            "Dataset: 12753 training images, 3712 validation images\n"
          ],
          "name": "stdout"
        }
      ]
    },
    {
      "cell_type": "code",
      "metadata": {
        "id": "GQSgxMfgb5Qd",
        "colab_type": "code",
        "colab": {}
      },
      "source": [
        "import pandas as pd\n",
        "from torchvision.transforms.functional import to_pil_image\n",
        "from torch.utils.data import DataLoader\n",
        "import pandas as pd \n",
        "import numpy as np\n",
        "import torch\n",
        "from torch import nn, sigmoid\n",
        "from torch.nn import functional as F\n",
        "from torch.utils import data\n",
        "from torch.optim import Adam\n",
        "\n",
        "from PIL import Image, ImageOps\n",
        "from torchvision import transforms, utils\n",
        "\n",
        "default_device = 'cuda' if torch.cuda.is_available() else 'cpu'\n",
        "\n",
        "class flowerDataSet(data.Dataset):\n",
        "    # TODO initialize conv layers and fc layers in a particular way. Important for our experiment\n",
        "    # TODO add cuda support\n",
        "    \n",
        "    def __init__(self, gcs_path, train, device = default_device, transform=None):\n",
        "        \"\"\"\n",
        "        Initializes the dataset. Will use .tfrec files\n",
        "        gcs_path (str): GCS path where images and labels are stored\n",
        "        specifications (optional): any extra keyword args are stored in a dict. Can include:\n",
        "            -transform\n",
        "            -resolution: what size do we want to resize the images to? Square or rectangular?\n",
        "        \"\"\"\n",
        "        \n",
        "        self.train=train\n",
        "        if transform:\n",
        "          self.transform=transform\n",
        "        else:\n",
        "          self.transform=transforms.ToTensor()\n",
        "\n",
        "        self.gcs_path = gcs_path\n",
        "        tfrec_dataset = tf.data.TFRecordDataset(gcs_path)\n",
        "        tfrec_dataset_cache=tfrec_dataset.cache()\n",
        "        if self.train:\n",
        "          tfrec_dataset_cache_map1=tfrec_dataset_cache.map(read_labeled_tfrecord)\n",
        "        else:\n",
        "          tfrec_dataset_cache_map1=tfrec_dataset_cache.map(read_unlabeled_tfrecord)\n",
        "        self.data_iter=tfrec_dataset_cache_map1.as_numpy_iterator()\n",
        "        self.label_df=pd.Series(tf.io.gfile.glob(gcs_path))\n",
        "\n",
        "        self.device = device\n",
        "    \n",
        "    def __len__(self):\n",
        "        return self.label_df.shape[0]\n",
        "\n",
        "    def __getitem__(self, idx):\n",
        "        \"\"\"\n",
        "            Get a single sample\n",
        "            Want this method to be very fast, i.e. few or no if statements, etc.\n",
        "        \"\"\"\n",
        "        #if torch.is_tensor(idx):\n",
        "        #    idx = idx.tolist()\n",
        "        \n",
        "        next_data=next(self.data_iter)\n",
        "        img=self.transform(Image.fromarray((next_data[0]* 255).astype(np.uint8)))\n",
        "        return img, torch.tensor(next_data[1], dtype=torch.long)\n",
        "\n",
        "        # get PIL image\n",
        "        #decoded_img=decode_image(next_data[0])\n",
        "        #decoded_img=decode_image(next_data[0].astype(np.uint8)).numpy().astype(np.uint8)\n",
        "        #image = Image.fromarray(decoded_img)\n",
        "        #image = self.transform(image)\n",
        "        #image = image.to(self.device)\n",
        "\n",
        "        #if self.train: #Include the label if it's training data\n",
        "          #label=next_data[1]\n",
        "          #return (image, torch.LongTensor([label]))\n",
        "        #return (image, next_data[1])\n",
        "\n",
        "    def display_sample(self, idx):\n",
        "        pic, label = self.__getitem__(idx)\n",
        "        #pic = pic.to('cpu')\n",
        "        pic = transforms.functional.to_pil_image(pic)\n",
        "        print(CLASSES[label])\n",
        "        # if not using in jupyter notebook context, show the image directly instead of returning it\n",
        "        # pic.show()\n",
        "        return pic"
      ],
      "execution_count": 30,
      "outputs": []
    },
    {
      "cell_type": "code",
      "metadata": {
        "id": "DPfL6Xj3viEA",
        "colab_type": "code",
        "colab": {}
      },
      "source": [
        "transform=transforms.Compose(\n",
        "                    [\n",
        "                        transforms.RandomVerticalFlip(p=0.5),\n",
        "                        transforms.RandomHorizontalFlip(p=0.5),\n",
        "                        transforms.RandomRotation(degrees=45, resample = Image.BICUBIC, expand = True),\n",
        "                        transforms.RandomCrop((224,224)),\n",
        "                        transforms.ToTensor()\n",
        "                    ])\n",
        "IMAGE_SIZE=[512,512]\n",
        "train_data = flowerDataSet(gcs_path=TRAINING_FILENAMES, train = True, transform=transform)"
      ],
      "execution_count": 31,
      "outputs": []
    },
    {
      "cell_type": "code",
      "metadata": {
        "id": "Zqy3yqIvwW7-",
        "colab_type": "code",
        "colab": {
          "base_uri": "https://localhost:8080/",
          "height": 258
        },
        "outputId": "0cb0ba47-e9f9-4ec0-c444-b7267381b86e"
      },
      "source": [
        "train_data.display_sample(0)"
      ],
      "execution_count": 11,
      "outputs": [
        {
          "output_type": "stream",
          "text": [
            "snapdragon\n"
          ],
          "name": "stdout"
        },
        {
          "output_type": "execute_result",
          "data": {
            "image/png": "[encoded data removed]",
            "text/plain": [
              "<PIL.Image.Image image mode=RGB size=224x224 at 0x7F0C1008D278>"
            ]
          },
          "metadata": {
            "tags": []
          },
          "execution_count": 11
        }
      ]
    },
    {
      "cell_type": "code",
      "metadata": {
        "id": "IWRDxONJfQg6",
        "colab_type": "code",
        "colab": {}
      },
      "source": [
        "import torchvision.models as models\n",
        "model = models.resnet18(pretrained = True)"
      ],
      "execution_count": 62,
      "outputs": []
    },
    {
      "cell_type": "code",
      "metadata": {
        "id": "gymjla3jiWbL",
        "colab_type": "code",
        "colab": {}
      },
      "source": [
        "# Freeze the parameters \n",
        "for param in model.parameters():\n",
        "    param.requires_grad = False "
      ],
      "execution_count": 63,
      "outputs": []
    },
    {
      "cell_type": "code",
      "metadata": {
        "id": "QsbMuy6qiWx9",
        "colab_type": "code",
        "colab": {
          "base_uri": "https://localhost:8080/",
          "height": 1000
        },
        "outputId": "de0de563-b5e1-44bc-8a92-fbaca68205bf"
      },
      "source": [
        "from collections import OrderedDict\n",
        "\n",
        "#Classifier architecture to put on top of resnet18\n",
        "fc = nn.Sequential(OrderedDict([\n",
        "    ('fc1', nn.Linear(512,104)),\n",
        "    #('relu', nn.ReLU()),\n",
        "    #('fc2', nn.Linear(100,104)),\n",
        "    ('output', nn.LogSoftmax(dim=1))\n",
        "]))\n",
        "\n",
        "model.fc = fc\n",
        "\n",
        "model.to(default_device)"
      ],
      "execution_count": 64,
      "outputs": [
        {
          "output_type": "execute_result",
          "data": {
            "text/plain": [
              "ResNet(\n",
              "  (conv1): Conv2d(3, 64, kernel_size=(7, 7), stride=(2, 2), padding=(3, 3), bias=False)\n",
              "  (bn1): BatchNorm2d(64, eps=1e-05, momentum=0.1, affine=True, track_running_stats=True)\n",
              "  (relu): ReLU(inplace=True)\n",
              "  (maxpool): MaxPool2d(kernel_size=3, stride=2, padding=1, dilation=1, ceil_mode=False)\n",
              "  (layer1): Sequential(\n",
              "    (0): BasicBlock(\n",
              "      (conv1): Conv2d(64, 64, kernel_size=(3, 3), stride=(1, 1), padding=(1, 1), bias=False)\n",
              "      (bn1): BatchNorm2d(64, eps=1e-05, momentum=0.1, affine=True, track_running_stats=True)\n",
              "      (relu): ReLU(inplace=True)\n",
              "      (conv2): Conv2d(64, 64, kernel_size=(3, 3), stride=(1, 1), padding=(1, 1), bias=False)\n",
              "      (bn2): BatchNorm2d(64, eps=1e-05, momentum=0.1, affine=True, track_running_stats=True)\n",
              "    )\n",
              "    (1): BasicBlock(\n",
              "      (conv1): Conv2d(64, 64, kernel_size=(3, 3), stride=(1, 1), padding=(1, 1), bias=False)\n",
              "      (bn1): BatchNorm2d(64, eps=1e-05, momentum=0.1, affine=True, track_running_stats=True)\n",
              "      (relu): ReLU(inplace=True)\n",
              "      (conv2): Conv2d(64, 64, kernel_size=(3, 3), stride=(1, 1), padding=(1, 1), bias=False)\n",
              "      (bn2): BatchNorm2d(64, eps=1e-05, momentum=0.1, affine=True, track_running_stats=True)\n",
              "    )\n",
              "  )\n",
              "  (layer2): Sequential(\n",
              "    (0): BasicBlock(\n",
              "      (conv1): Conv2d(64, 128, kernel_size=(3, 3), stride=(2, 2), padding=(1, 1), bias=False)\n",
              "      (bn1): BatchNorm2d(128, eps=1e-05, momentum=0.1, affine=True, track_running_stats=True)\n",
              "      (relu): ReLU(inplace=True)\n",
              "      (conv2): Conv2d(128, 128, kernel_size=(3, 3), stride=(1, 1), padding=(1, 1), bias=False)\n",
              "      (bn2): BatchNorm2d(128, eps=1e-05, momentum=0.1, affine=True, track_running_stats=True)\n",
              "      (downsample): Sequential(\n",
              "        (0): Conv2d(64, 128, kernel_size=(1, 1), stride=(2, 2), bias=False)\n",
              "        (1): BatchNorm2d(128, eps=1e-05, momentum=0.1, affine=True, track_running_stats=True)\n",
              "      )\n",
              "    )\n",
              "    (1): BasicBlock(\n",
              "      (conv1): Conv2d(128, 128, kernel_size=(3, 3), stride=(1, 1), padding=(1, 1), bias=False)\n",
              "      (bn1): BatchNorm2d(128, eps=1e-05, momentum=0.1, affine=True, track_running_stats=True)\n",
              "      (relu): ReLU(inplace=True)\n",
              "      (conv2): Conv2d(128, 128, kernel_size=(3, 3), stride=(1, 1), padding=(1, 1), bias=False)\n",
              "      (bn2): BatchNorm2d(128, eps=1e-05, momentum=0.1, affine=True, track_running_stats=True)\n",
              "    )\n",
              "  )\n",
              "  (layer3): Sequential(\n",
              "    (0): BasicBlock(\n",
              "      (conv1): Conv2d(128, 256, kernel_size=(3, 3), stride=(2, 2), padding=(1, 1), bias=False)\n",
              "      (bn1): BatchNorm2d(256, eps=1e-05, momentum=0.1, affine=True, track_running_stats=True)\n",
              "      (relu): ReLU(inplace=True)\n",
              "      (conv2): Conv2d(256, 256, kernel_size=(3, 3), stride=(1, 1), padding=(1, 1), bias=False)\n",
              "      (bn2): BatchNorm2d(256, eps=1e-05, momentum=0.1, affine=True, track_running_stats=True)\n",
              "      (downsample): Sequential(\n",
              "        (0): Conv2d(128, 256, kernel_size=(1, 1), stride=(2, 2), bias=False)\n",
              "        (1): BatchNorm2d(256, eps=1e-05, momentum=0.1, affine=True, track_running_stats=True)\n",
              "      )\n",
              "    )\n",
              "    (1): BasicBlock(\n",
              "      (conv1): Conv2d(256, 256, kernel_size=(3, 3), stride=(1, 1), padding=(1, 1), bias=False)\n",
              "      (bn1): BatchNorm2d(256, eps=1e-05, momentum=0.1, affine=True, track_running_stats=True)\n",
              "      (relu): ReLU(inplace=True)\n",
              "      (conv2): Conv2d(256, 256, kernel_size=(3, 3), stride=(1, 1), padding=(1, 1), bias=False)\n",
              "      (bn2): BatchNorm2d(256, eps=1e-05, momentum=0.1, affine=True, track_running_stats=True)\n",
              "    )\n",
              "  )\n",
              "  (layer4): Sequential(\n",
              "    (0): BasicBlock(\n",
              "      (conv1): Conv2d(256, 512, kernel_size=(3, 3), stride=(2, 2), padding=(1, 1), bias=False)\n",
              "      (bn1): BatchNorm2d(512, eps=1e-05, momentum=0.1, affine=True, track_running_stats=True)\n",
              "      (relu): ReLU(inplace=True)\n",
              "      (conv2): Conv2d(512, 512, kernel_size=(3, 3), stride=(1, 1), padding=(1, 1), bias=False)\n",
              "      (bn2): BatchNorm2d(512, eps=1e-05, momentum=0.1, affine=True, track_running_stats=True)\n",
              "      (downsample): Sequential(\n",
              "        (0): Conv2d(256, 512, kernel_size=(1, 1), stride=(2, 2), bias=False)\n",
              "        (1): BatchNorm2d(512, eps=1e-05, momentum=0.1, affine=True, track_running_stats=True)\n",
              "      )\n",
              "    )\n",
              "    (1): BasicBlock(\n",
              "      (conv1): Conv2d(512, 512, kernel_size=(3, 3), stride=(1, 1), padding=(1, 1), bias=False)\n",
              "      (bn1): BatchNorm2d(512, eps=1e-05, momentum=0.1, affine=True, track_running_stats=True)\n",
              "      (relu): ReLU(inplace=True)\n",
              "      (conv2): Conv2d(512, 512, kernel_size=(3, 3), stride=(1, 1), padding=(1, 1), bias=False)\n",
              "      (bn2): BatchNorm2d(512, eps=1e-05, momentum=0.1, affine=True, track_running_stats=True)\n",
              "    )\n",
              "  )\n",
              "  (avgpool): AdaptiveAvgPool2d(output_size=(1, 1))\n",
              "  (fc): Sequential(\n",
              "    (fc1): Linear(in_features=512, out_features=104, bias=True)\n",
              "    (output): LogSoftmax(dim=1)\n",
              "  )\n",
              ")"
            ]
          },
          "metadata": {
            "tags": []
          },
          "execution_count": 64
        }
      ]
    },
    {
      "cell_type": "code",
      "metadata": {
        "id": "-PU4sy5miVoJ",
        "colab_type": "code",
        "colab": {
          "base_uri": "https://localhost:8080/",
          "height": 537
        },
        "outputId": "58521e6d-5cb6-415f-db94-d1e21ae091c7"
      },
      "source": [
        "from torch import nn\n",
        "from torch import optim\n",
        "from time import ctime\n",
        "import matplotlib.pyplot as plt\n",
        "from torchvision import transforms\n",
        "\n",
        "#function to train the model\n",
        "def train_validate(model, train_names, val_names, criterion, optimizer, epochs = 5, BATCH_SIZE=8,\n",
        "                   t_transform=None, v_transform=None):\n",
        "    print('Begin', ctime())\n",
        "    for e in range(epochs):\n",
        "      train_data = flowerDataSet(gcs_path=train_names, train = True, transform=t_transform)\n",
        "      trainloader = DataLoader(train_data, batch_size = BATCH_SIZE, shuffle=False)\n",
        "      train_loss =[]\n",
        "      val_loss=[]\n",
        "      running_loss=0\n",
        "      batch_num=0\n",
        "      for s in range(NUM_TRAINING_IMAGES//BATCH_SIZE):\n",
        "        for images, labels in trainloader:\n",
        "            inputs, labels = images.to(default_device), labels.to(default_device)\n",
        "            batch_num+=1\n",
        "\n",
        "            optimizer.zero_grad()\n",
        "            img = model(inputs)\n",
        "            loss = criterion(img, labels)\n",
        "            running_loss+=loss.item()\n",
        "            loss.backward()\n",
        "            optimizer.step()\n",
        "      train_loss.append(running_loss/NUM_TRAINING_IMAGES)\n",
        "      print('Training Steps:', NUM_TRAINING_IMAGES//BATCH_SIZE, \"Batches:\", batch_num)\n",
        "      running_loss=0\n",
        "      batch_num=0\n",
        "      val_data = flowerDataSet(gcs_path=val_names, train = True, transform=v_transform)\n",
        "      val_loader = DataLoader(val_data, batch_size = BATCH_SIZE, shuffle=False)\n",
        "      for s in range(NUM_VALIDATION_IMAGES//BATCH_SIZE):\n",
        "          for images, labels in val_loader:\n",
        "            inputs, labels = images.to(default_device), labels.to(default_device)\n",
        "            batch_num+=1\n",
        "\n",
        "            img = model(inputs)\n",
        "            loss = criterion(img, labels)\n",
        "            running_loss+=loss.item()\n",
        "\n",
        "      val_loss.append(running_loss/NUM_VALIDATION_IMAGES)\n",
        "      print('Validation Steps:', NUM_VALIDATION_IMAGES//BATCH_SIZE, \"Batches:\", batch_num)\n",
        "      print(\"Epoch : {}/{}..\".format(e+1,epochs),\n",
        "         \"Training Loss:\", train_loss[-1],\n",
        "         \"Validation Loss:\", val_loss[-1], ctime()) \n",
        "      torch.save(model.state_dict(), '/content/gdrive/My Drive/flowers0822_e{:02d}.pth'.format(e))\n",
        "\n",
        "    plt.plot(train_loss,label=\"Training Loss\")\n",
        "    plt.plot(val_loss,label=\"Validation Loss\")\n",
        "    plt.show() \n",
        "    \n",
        "    \n",
        "epochs = 5\n",
        "optimizer = optim.Adam(model.fc.parameters(), lr=0.001)\n",
        "criterion = nn.NLLLoss() \n",
        "t_transform=transforms.Compose(\n",
        "                    [\n",
        "                        transforms.RandomVerticalFlip(p=0.5),\n",
        "                        transforms.RandomHorizontalFlip(p=0.5),\n",
        "                        transforms.RandomRotation(degrees=45, resample = Image.BICUBIC, expand = True),\n",
        "                        transforms.RandomCrop((224,224)),\n",
        "                        transforms.ToTensor()\n",
        "                    ])\n",
        "v_transform=transforms.Compose(\n",
        "                    [\n",
        "                        transforms.Resize((224,224)),\n",
        "                        transforms.ToTensor()\n",
        "                    ])\n",
        "train_validate(model,TRAINING_FILENAMES, VALIDATION_FILENAMES, criterion, optimizer, epochs,\n",
        "               t_transform=t_transform, v_transform=v_transform) "
      ],
      "execution_count": 65,
      "outputs": [
        {
          "output_type": "stream",
          "text": [
            "Begin Sat Aug 22 09:16:20 2020\n",
            "Training Steps: 1594 Batches: 1594\n",
            "Validation Steps: 464 Batches: 464\n",
            "Epoch : 1/5.. Training Loss: 0.40220023121336884 Validation Loss: 0.2767069686268424 Sat Aug 22 09:26:13 2020\n",
            "Training Steps: 1594 Batches: 1594\n",
            "Validation Steps: 464 Batches: 464\n",
            "Epoch : 2/5.. Training Loss: 0.3111593675344194 Validation Loss: 0.24104883795571996 Sat Aug 22 09:36:05 2020\n",
            "Training Steps: 1594 Batches: 1594\n",
            "Validation Steps: 464 Batches: 464\n",
            "Epoch : 3/5.. Training Loss: 0.2898682752403756 Validation Loss: 0.2343197589948902 Sat Aug 22 09:45:56 2020\n",
            "Training Steps: 1594 Batches: 1594\n",
            "Validation Steps: 464 Batches: 464\n",
            "Epoch : 4/5.. Training Loss: 0.2792676058828265 Validation Loss: 0.22343220619950444 Sat Aug 22 09:55:46 2020\n",
            "Training Steps: 1594 Batches: 1594\n",
            "Validation Steps: 464 Batches: 464\n",
            "Epoch : 5/5.. Training Loss: 0.2742460059211047 Validation Loss: 0.22371574435061936 Sat Aug 22 10:05:35 2020\n"
          ],
          "name": "stdout"
        },
        {
          "output_type": "display_data",
          "data": {
            "image/png": "[encoded data removed]",
            "text/plain": [
              "<Figure size 432x288 with 1 Axes>"
            ]
          },
          "metadata": {
            "tags": [],
            "needs_background": "light"
          }
        }
      ]
    },
    {
      "cell_type": "code",
      "metadata": {
        "id": "PC4gZBgtoitv",
        "colab_type": "code",
        "colab": {
          "base_uri": "https://localhost:8080/",
          "height": 1000
        },
        "outputId": "c5b505c7-e49a-4e47-ad16-bee7de665eda"
      },
      "source": [
        "list(model.modules())"
      ],
      "execution_count": 80,
      "outputs": [
        {
          "output_type": "execute_result",
          "data": {
            "text/plain": [
              "[ResNet(\n",
              "   (conv1): Conv2d(3, 64, kernel_size=(7, 7), stride=(2, 2), padding=(3, 3), bias=False)\n",
              "   (bn1): BatchNorm2d(64, eps=1e-05, momentum=0.1, affine=True, track_running_stats=True)\n",
              "   (relu): ReLU(inplace=True)\n",
              "   (maxpool): MaxPool2d(kernel_size=3, stride=2, padding=1, dilation=1, ceil_mode=False)\n",
              "   (layer1): Sequential(\n",
              "     (0): BasicBlock(\n",
              "       (conv1): Conv2d(64, 64, kernel_size=(3, 3), stride=(1, 1), padding=(1, 1), bias=False)\n",
              "       (bn1): BatchNorm2d(64, eps=1e-05, momentum=0.1, affine=True, track_running_stats=True)\n",
              "       (relu): ReLU(inplace=True)\n",
              "       (conv2): Conv2d(64, 64, kernel_size=(3, 3), stride=(1, 1), padding=(1, 1), bias=False)\n",
              "       (bn2): BatchNorm2d(64, eps=1e-05, momentum=0.1, affine=True, track_running_stats=True)\n",
              "     )\n",
              "     (1): BasicBlock(\n",
              "       (conv1): Conv2d(64, 64, kernel_size=(3, 3), stride=(1, 1), padding=(1, 1), bias=False)\n",
              "       (bn1): BatchNorm2d(64, eps=1e-05, momentum=0.1, affine=True, track_running_stats=True)\n",
              "       (relu): ReLU(inplace=True)\n",
              "       (conv2): Conv2d(64, 64, kernel_size=(3, 3), stride=(1, 1), padding=(1, 1), bias=False)\n",
              "       (bn2): BatchNorm2d(64, eps=1e-05, momentum=0.1, affine=True, track_running_stats=True)\n",
              "     )\n",
              "   )\n",
              "   (layer2): Sequential(\n",
              "     (0): BasicBlock(\n",
              "       (conv1): Conv2d(64, 128, kernel_size=(3, 3), stride=(2, 2), padding=(1, 1), bias=False)\n",
              "       (bn1): BatchNorm2d(128, eps=1e-05, momentum=0.1, affine=True, track_running_stats=True)\n",
              "       (relu): ReLU(inplace=True)\n",
              "       (conv2): Conv2d(128, 128, kernel_size=(3, 3), stride=(1, 1), padding=(1, 1), bias=False)\n",
              "       (bn2): BatchNorm2d(128, eps=1e-05, momentum=0.1, affine=True, track_running_stats=True)\n",
              "       (downsample): Sequential(\n",
              "         (0): Conv2d(64, 128, kernel_size=(1, 1), stride=(2, 2), bias=False)\n",
              "         (1): BatchNorm2d(128, eps=1e-05, momentum=0.1, affine=True, track_running_stats=True)\n",
              "       )\n",
              "     )\n",
              "     (1): BasicBlock(\n",
              "       (conv1): Conv2d(128, 128, kernel_size=(3, 3), stride=(1, 1), padding=(1, 1), bias=False)\n",
              "       (bn1): BatchNorm2d(128, eps=1e-05, momentum=0.1, affine=True, track_running_stats=True)\n",
              "       (relu): ReLU(inplace=True)\n",
              "       (conv2): Conv2d(128, 128, kernel_size=(3, 3), stride=(1, 1), padding=(1, 1), bias=False)\n",
              "       (bn2): BatchNorm2d(128, eps=1e-05, momentum=0.1, affine=True, track_running_stats=True)\n",
              "     )\n",
              "   )\n",
              "   (layer3): Sequential(\n",
              "     (0): BasicBlock(\n",
              "       (conv1): Conv2d(128, 256, kernel_size=(3, 3), stride=(2, 2), padding=(1, 1), bias=False)\n",
              "       (bn1): BatchNorm2d(256, eps=1e-05, momentum=0.1, affine=True, track_running_stats=True)\n",
              "       (relu): ReLU(inplace=True)\n",
              "       (conv2): Conv2d(256, 256, kernel_size=(3, 3), stride=(1, 1), padding=(1, 1), bias=False)\n",
              "       (bn2): BatchNorm2d(256, eps=1e-05, momentum=0.1, affine=True, track_running_stats=True)\n",
              "       (downsample): Sequential(\n",
              "         (0): Conv2d(128, 256, kernel_size=(1, 1), stride=(2, 2), bias=False)\n",
              "         (1): BatchNorm2d(256, eps=1e-05, momentum=0.1, affine=True, track_running_stats=True)\n",
              "       )\n",
              "     )\n",
              "     (1): BasicBlock(\n",
              "       (conv1): Conv2d(256, 256, kernel_size=(3, 3), stride=(1, 1), padding=(1, 1), bias=False)\n",
              "       (bn1): BatchNorm2d(256, eps=1e-05, momentum=0.1, affine=True, track_running_stats=True)\n",
              "       (relu): ReLU(inplace=True)\n",
              "       (conv2): Conv2d(256, 256, kernel_size=(3, 3), stride=(1, 1), padding=(1, 1), bias=False)\n",
              "       (bn2): BatchNorm2d(256, eps=1e-05, momentum=0.1, affine=True, track_running_stats=True)\n",
              "     )\n",
              "   )\n",
              "   (layer4): Sequential(\n",
              "     (0): BasicBlock(\n",
              "       (conv1): Conv2d(256, 512, kernel_size=(3, 3), stride=(2, 2), padding=(1, 1), bias=False)\n",
              "       (bn1): BatchNorm2d(512, eps=1e-05, momentum=0.1, affine=True, track_running_stats=True)\n",
              "       (relu): ReLU(inplace=True)\n",
              "       (conv2): Conv2d(512, 512, kernel_size=(3, 3), stride=(1, 1), padding=(1, 1), bias=False)\n",
              "       (bn2): BatchNorm2d(512, eps=1e-05, momentum=0.1, affine=True, track_running_stats=True)\n",
              "       (downsample): Sequential(\n",
              "         (0): Conv2d(256, 512, kernel_size=(1, 1), stride=(2, 2), bias=False)\n",
              "         (1): BatchNorm2d(512, eps=1e-05, momentum=0.1, affine=True, track_running_stats=True)\n",
              "       )\n",
              "     )\n",
              "     (1): BasicBlock(\n",
              "       (conv1): Conv2d(512, 512, kernel_size=(3, 3), stride=(1, 1), padding=(1, 1), bias=False)\n",
              "       (bn1): BatchNorm2d(512, eps=1e-05, momentum=0.1, affine=True, track_running_stats=True)\n",
              "       (relu): ReLU(inplace=True)\n",
              "       (conv2): Conv2d(512, 512, kernel_size=(3, 3), stride=(1, 1), padding=(1, 1), bias=False)\n",
              "       (bn2): BatchNorm2d(512, eps=1e-05, momentum=0.1, affine=True, track_running_stats=True)\n",
              "     )\n",
              "   )\n",
              "   (avgpool): AdaptiveAvgPool2d(output_size=(1, 1))\n",
              "   (fc): Sequential(\n",
              "     (fc1): Linear(in_features=512, out_features=104, bias=True)\n",
              "     (output): LogSoftmax(dim=1)\n",
              "   )\n",
              " ),\n",
              " Conv2d(3, 64, kernel_size=(7, 7), stride=(2, 2), padding=(3, 3), bias=False),\n",
              " BatchNorm2d(64, eps=1e-05, momentum=0.1, affine=True, track_running_stats=True),\n",
              " ReLU(inplace=True),\n",
              " MaxPool2d(kernel_size=3, stride=2, padding=1, dilation=1, ceil_mode=False),\n",
              " Sequential(\n",
              "   (0): BasicBlock(\n",
              "     (conv1): Conv2d(64, 64, kernel_size=(3, 3), stride=(1, 1), padding=(1, 1), bias=False)\n",
              "     (bn1): BatchNorm2d(64, eps=1e-05, momentum=0.1, affine=True, track_running_stats=True)\n",
              "     (relu): ReLU(inplace=True)\n",
              "     (conv2): Conv2d(64, 64, kernel_size=(3, 3), stride=(1, 1), padding=(1, 1), bias=False)\n",
              "     (bn2): BatchNorm2d(64, eps=1e-05, momentum=0.1, affine=True, track_running_stats=True)\n",
              "   )\n",
              "   (1): BasicBlock(\n",
              "     (conv1): Conv2d(64, 64, kernel_size=(3, 3), stride=(1, 1), padding=(1, 1), bias=False)\n",
              "     (bn1): BatchNorm2d(64, eps=1e-05, momentum=0.1, affine=True, track_running_stats=True)\n",
              "     (relu): ReLU(inplace=True)\n",
              "     (conv2): Conv2d(64, 64, kernel_size=(3, 3), stride=(1, 1), padding=(1, 1), bias=False)\n",
              "     (bn2): BatchNorm2d(64, eps=1e-05, momentum=0.1, affine=True, track_running_stats=True)\n",
              "   )\n",
              " ),\n",
              " BasicBlock(\n",
              "   (conv1): Conv2d(64, 64, kernel_size=(3, 3), stride=(1, 1), padding=(1, 1), bias=False)\n",
              "   (bn1): BatchNorm2d(64, eps=1e-05, momentum=0.1, affine=True, track_running_stats=True)\n",
              "   (relu): ReLU(inplace=True)\n",
              "   (conv2): Conv2d(64, 64, kernel_size=(3, 3), stride=(1, 1), padding=(1, 1), bias=False)\n",
              "   (bn2): BatchNorm2d(64, eps=1e-05, momentum=0.1, affine=True, track_running_stats=True)\n",
              " ),\n",
              " Conv2d(64, 64, kernel_size=(3, 3), stride=(1, 1), padding=(1, 1), bias=False),\n",
              " BatchNorm2d(64, eps=1e-05, momentum=0.1, affine=True, track_running_stats=True),\n",
              " ReLU(inplace=True),\n",
              " Conv2d(64, 64, kernel_size=(3, 3), stride=(1, 1), padding=(1, 1), bias=False),\n",
              " BatchNorm2d(64, eps=1e-05, momentum=0.1, affine=True, track_running_stats=True),\n",
              " BasicBlock(\n",
              "   (conv1): Conv2d(64, 64, kernel_size=(3, 3), stride=(1, 1), padding=(1, 1), bias=False)\n",
              "   (bn1): BatchNorm2d(64, eps=1e-05, momentum=0.1, affine=True, track_running_stats=True)\n",
              "   (relu): ReLU(inplace=True)\n",
              "   (conv2): Conv2d(64, 64, kernel_size=(3, 3), stride=(1, 1), padding=(1, 1), bias=False)\n",
              "   (bn2): BatchNorm2d(64, eps=1e-05, momentum=0.1, affine=True, track_running_stats=True)\n",
              " ),\n",
              " Conv2d(64, 64, kernel_size=(3, 3), stride=(1, 1), padding=(1, 1), bias=False),\n",
              " BatchNorm2d(64, eps=1e-05, momentum=0.1, affine=True, track_running_stats=True),\n",
              " ReLU(inplace=True),\n",
              " Conv2d(64, 64, kernel_size=(3, 3), stride=(1, 1), padding=(1, 1), bias=False),\n",
              " BatchNorm2d(64, eps=1e-05, momentum=0.1, affine=True, track_running_stats=True),\n",
              " Sequential(\n",
              "   (0): BasicBlock(\n",
              "     (conv1): Conv2d(64, 128, kernel_size=(3, 3), stride=(2, 2), padding=(1, 1), bias=False)\n",
              "     (bn1): BatchNorm2d(128, eps=1e-05, momentum=0.1, affine=True, track_running_stats=True)\n",
              "     (relu): ReLU(inplace=True)\n",
              "     (conv2): Conv2d(128, 128, kernel_size=(3, 3), stride=(1, 1), padding=(1, 1), bias=False)\n",
              "     (bn2): BatchNorm2d(128, eps=1e-05, momentum=0.1, affine=True, track_running_stats=True)\n",
              "     (downsample): Sequential(\n",
              "       (0): Conv2d(64, 128, kernel_size=(1, 1), stride=(2, 2), bias=False)\n",
              "       (1): BatchNorm2d(128, eps=1e-05, momentum=0.1, affine=True, track_running_stats=True)\n",
              "     )\n",
              "   )\n",
              "   (1): BasicBlock(\n",
              "     (conv1): Conv2d(128, 128, kernel_size=(3, 3), stride=(1, 1), padding=(1, 1), bias=False)\n",
              "     (bn1): BatchNorm2d(128, eps=1e-05, momentum=0.1, affine=True, track_running_stats=True)\n",
              "     (relu): ReLU(inplace=True)\n",
              "     (conv2): Conv2d(128, 128, kernel_size=(3, 3), stride=(1, 1), padding=(1, 1), bias=False)\n",
              "     (bn2): BatchNorm2d(128, eps=1e-05, momentum=0.1, affine=True, track_running_stats=True)\n",
              "   )\n",
              " ),\n",
              " BasicBlock(\n",
              "   (conv1): Conv2d(64, 128, kernel_size=(3, 3), stride=(2, 2), padding=(1, 1), bias=False)\n",
              "   (bn1): BatchNorm2d(128, eps=1e-05, momentum=0.1, affine=True, track_running_stats=True)\n",
              "   (relu): ReLU(inplace=True)\n",
              "   (conv2): Conv2d(128, 128, kernel_size=(3, 3), stride=(1, 1), padding=(1, 1), bias=False)\n",
              "   (bn2): BatchNorm2d(128, eps=1e-05, momentum=0.1, affine=True, track_running_stats=True)\n",
              "   (downsample): Sequential(\n",
              "     (0): Conv2d(64, 128, kernel_size=(1, 1), stride=(2, 2), bias=False)\n",
              "     (1): BatchNorm2d(128, eps=1e-05, momentum=0.1, affine=True, track_running_stats=True)\n",
              "   )\n",
              " ),\n",
              " Conv2d(64, 128, kernel_size=(3, 3), stride=(2, 2), padding=(1, 1), bias=False),\n",
              " BatchNorm2d(128, eps=1e-05, momentum=0.1, affine=True, track_running_stats=True),\n",
              " ReLU(inplace=True),\n",
              " Conv2d(128, 128, kernel_size=(3, 3), stride=(1, 1), padding=(1, 1), bias=False),\n",
              " BatchNorm2d(128, eps=1e-05, momentum=0.1, affine=True, track_running_stats=True),\n",
              " Sequential(\n",
              "   (0): Conv2d(64, 128, kernel_size=(1, 1), stride=(2, 2), bias=False)\n",
              "   (1): BatchNorm2d(128, eps=1e-05, momentum=0.1, affine=True, track_running_stats=True)\n",
              " ),\n",
              " Conv2d(64, 128, kernel_size=(1, 1), stride=(2, 2), bias=False),\n",
              " BatchNorm2d(128, eps=1e-05, momentum=0.1, affine=True, track_running_stats=True),\n",
              " BasicBlock(\n",
              "   (conv1): Conv2d(128, 128, kernel_size=(3, 3), stride=(1, 1), padding=(1, 1), bias=False)\n",
              "   (bn1): BatchNorm2d(128, eps=1e-05, momentum=0.1, affine=True, track_running_stats=True)\n",
              "   (relu): ReLU(inplace=True)\n",
              "   (conv2): Conv2d(128, 128, kernel_size=(3, 3), stride=(1, 1), padding=(1, 1), bias=False)\n",
              "   (bn2): BatchNorm2d(128, eps=1e-05, momentum=0.1, affine=True, track_running_stats=True)\n",
              " ),\n",
              " Conv2d(128, 128, kernel_size=(3, 3), stride=(1, 1), padding=(1, 1), bias=False),\n",
              " BatchNorm2d(128, eps=1e-05, momentum=0.1, affine=True, track_running_stats=True),\n",
              " ReLU(inplace=True),\n",
              " Conv2d(128, 128, kernel_size=(3, 3), stride=(1, 1), padding=(1, 1), bias=False),\n",
              " BatchNorm2d(128, eps=1e-05, momentum=0.1, affine=True, track_running_stats=True),\n",
              " Sequential(\n",
              "   (0): BasicBlock(\n",
              "     (conv1): Conv2d(128, 256, kernel_size=(3, 3), stride=(2, 2), padding=(1, 1), bias=False)\n",
              "     (bn1): BatchNorm2d(256, eps=1e-05, momentum=0.1, affine=True, track_running_stats=True)\n",
              "     (relu): ReLU(inplace=True)\n",
              "     (conv2): Conv2d(256, 256, kernel_size=(3, 3), stride=(1, 1), padding=(1, 1), bias=False)\n",
              "     (bn2): BatchNorm2d(256, eps=1e-05, momentum=0.1, affine=True, track_running_stats=True)\n",
              "     (downsample): Sequential(\n",
              "       (0): Conv2d(128, 256, kernel_size=(1, 1), stride=(2, 2), bias=False)\n",
              "       (1): BatchNorm2d(256, eps=1e-05, momentum=0.1, affine=True, track_running_stats=True)\n",
              "     )\n",
              "   )\n",
              "   (1): BasicBlock(\n",
              "     (conv1): Conv2d(256, 256, kernel_size=(3, 3), stride=(1, 1), padding=(1, 1), bias=False)\n",
              "     (bn1): BatchNorm2d(256, eps=1e-05, momentum=0.1, affine=True, track_running_stats=True)\n",
              "     (relu): ReLU(inplace=True)\n",
              "     (conv2): Conv2d(256, 256, kernel_size=(3, 3), stride=(1, 1), padding=(1, 1), bias=False)\n",
              "     (bn2): BatchNorm2d(256, eps=1e-05, momentum=0.1, affine=True, track_running_stats=True)\n",
              "   )\n",
              " ),\n",
              " BasicBlock(\n",
              "   (conv1): Conv2d(128, 256, kernel_size=(3, 3), stride=(2, 2), padding=(1, 1), bias=False)\n",
              "   (bn1): BatchNorm2d(256, eps=1e-05, momentum=0.1, affine=True, track_running_stats=True)\n",
              "   (relu): ReLU(inplace=True)\n",
              "   (conv2): Conv2d(256, 256, kernel_size=(3, 3), stride=(1, 1), padding=(1, 1), bias=False)\n",
              "   (bn2): BatchNorm2d(256, eps=1e-05, momentum=0.1, affine=True, track_running_stats=True)\n",
              "   (downsample): Sequential(\n",
              "     (0): Conv2d(128, 256, kernel_size=(1, 1), stride=(2, 2), bias=False)\n",
              "     (1): BatchNorm2d(256, eps=1e-05, momentum=0.1, affine=True, track_running_stats=True)\n",
              "   )\n",
              " ),\n",
              " Conv2d(128, 256, kernel_size=(3, 3), stride=(2, 2), padding=(1, 1), bias=False),\n",
              " BatchNorm2d(256, eps=1e-05, momentum=0.1, affine=True, track_running_stats=True),\n",
              " ReLU(inplace=True),\n",
              " Conv2d(256, 256, kernel_size=(3, 3), stride=(1, 1), padding=(1, 1), bias=False),\n",
              " BatchNorm2d(256, eps=1e-05, momentum=0.1, affine=True, track_running_stats=True),\n",
              " Sequential(\n",
              "   (0): Conv2d(128, 256, kernel_size=(1, 1), stride=(2, 2), bias=False)\n",
              "   (1): BatchNorm2d(256, eps=1e-05, momentum=0.1, affine=True, track_running_stats=True)\n",
              " ),\n",
              " Conv2d(128, 256, kernel_size=(1, 1), stride=(2, 2), bias=False),\n",
              " BatchNorm2d(256, eps=1e-05, momentum=0.1, affine=True, track_running_stats=True),\n",
              " BasicBlock(\n",
              "   (conv1): Conv2d(256, 256, kernel_size=(3, 3), stride=(1, 1), padding=(1, 1), bias=False)\n",
              "   (bn1): BatchNorm2d(256, eps=1e-05, momentum=0.1, affine=True, track_running_stats=True)\n",
              "   (relu): ReLU(inplace=True)\n",
              "   (conv2): Conv2d(256, 256, kernel_size=(3, 3), stride=(1, 1), padding=(1, 1), bias=False)\n",
              "   (bn2): BatchNorm2d(256, eps=1e-05, momentum=0.1, affine=True, track_running_stats=True)\n",
              " ),\n",
              " Conv2d(256, 256, kernel_size=(3, 3), stride=(1, 1), padding=(1, 1), bias=False),\n",
              " BatchNorm2d(256, eps=1e-05, momentum=0.1, affine=True, track_running_stats=True),\n",
              " ReLU(inplace=True),\n",
              " Conv2d(256, 256, kernel_size=(3, 3), stride=(1, 1), padding=(1, 1), bias=False),\n",
              " BatchNorm2d(256, eps=1e-05, momentum=0.1, affine=True, track_running_stats=True),\n",
              " Sequential(\n",
              "   (0): BasicBlock(\n",
              "     (conv1): Conv2d(256, 512, kernel_size=(3, 3), stride=(2, 2), padding=(1, 1), bias=False)\n",
              "     (bn1): BatchNorm2d(512, eps=1e-05, momentum=0.1, affine=True, track_running_stats=True)\n",
              "     (relu): ReLU(inplace=True)\n",
              "     (conv2): Conv2d(512, 512, kernel_size=(3, 3), stride=(1, 1), padding=(1, 1), bias=False)\n",
              "     (bn2): BatchNorm2d(512, eps=1e-05, momentum=0.1, affine=True, track_running_stats=True)\n",
              "     (downsample): Sequential(\n",
              "       (0): Conv2d(256, 512, kernel_size=(1, 1), stride=(2, 2), bias=False)\n",
              "       (1): BatchNorm2d(512, eps=1e-05, momentum=0.1, affine=True, track_running_stats=True)\n",
              "     )\n",
              "   )\n",
              "   (1): BasicBlock(\n",
              "     (conv1): Conv2d(512, 512, kernel_size=(3, 3), stride=(1, 1), padding=(1, 1), bias=False)\n",
              "     (bn1): BatchNorm2d(512, eps=1e-05, momentum=0.1, affine=True, track_running_stats=True)\n",
              "     (relu): ReLU(inplace=True)\n",
              "     (conv2): Conv2d(512, 512, kernel_size=(3, 3), stride=(1, 1), padding=(1, 1), bias=False)\n",
              "     (bn2): BatchNorm2d(512, eps=1e-05, momentum=0.1, affine=True, track_running_stats=True)\n",
              "   )\n",
              " ),\n",
              " BasicBlock(\n",
              "   (conv1): Conv2d(256, 512, kernel_size=(3, 3), stride=(2, 2), padding=(1, 1), bias=False)\n",
              "   (bn1): BatchNorm2d(512, eps=1e-05, momentum=0.1, affine=True, track_running_stats=True)\n",
              "   (relu): ReLU(inplace=True)\n",
              "   (conv2): Conv2d(512, 512, kernel_size=(3, 3), stride=(1, 1), padding=(1, 1), bias=False)\n",
              "   (bn2): BatchNorm2d(512, eps=1e-05, momentum=0.1, affine=True, track_running_stats=True)\n",
              "   (downsample): Sequential(\n",
              "     (0): Conv2d(256, 512, kernel_size=(1, 1), stride=(2, 2), bias=False)\n",
              "     (1): BatchNorm2d(512, eps=1e-05, momentum=0.1, affine=True, track_running_stats=True)\n",
              "   )\n",
              " ),\n",
              " Conv2d(256, 512, kernel_size=(3, 3), stride=(2, 2), padding=(1, 1), bias=False),\n",
              " BatchNorm2d(512, eps=1e-05, momentum=0.1, affine=True, track_running_stats=True),\n",
              " ReLU(inplace=True),\n",
              " Conv2d(512, 512, kernel_size=(3, 3), stride=(1, 1), padding=(1, 1), bias=False),\n",
              " BatchNorm2d(512, eps=1e-05, momentum=0.1, affine=True, track_running_stats=True),\n",
              " Sequential(\n",
              "   (0): Conv2d(256, 512, kernel_size=(1, 1), stride=(2, 2), bias=False)\n",
              "   (1): BatchNorm2d(512, eps=1e-05, momentum=0.1, affine=True, track_running_stats=True)\n",
              " ),\n",
              " Conv2d(256, 512, kernel_size=(1, 1), stride=(2, 2), bias=False),\n",
              " BatchNorm2d(512, eps=1e-05, momentum=0.1, affine=True, track_running_stats=True),\n",
              " BasicBlock(\n",
              "   (conv1): Conv2d(512, 512, kernel_size=(3, 3), stride=(1, 1), padding=(1, 1), bias=False)\n",
              "   (bn1): BatchNorm2d(512, eps=1e-05, momentum=0.1, affine=True, track_running_stats=True)\n",
              "   (relu): ReLU(inplace=True)\n",
              "   (conv2): Conv2d(512, 512, kernel_size=(3, 3), stride=(1, 1), padding=(1, 1), bias=False)\n",
              "   (bn2): BatchNorm2d(512, eps=1e-05, momentum=0.1, affine=True, track_running_stats=True)\n",
              " ),\n",
              " Conv2d(512, 512, kernel_size=(3, 3), stride=(1, 1), padding=(1, 1), bias=False),\n",
              " BatchNorm2d(512, eps=1e-05, momentum=0.1, affine=True, track_running_stats=True),\n",
              " ReLU(inplace=True),\n",
              " Conv2d(512, 512, kernel_size=(3, 3), stride=(1, 1), padding=(1, 1), bias=False),\n",
              " BatchNorm2d(512, eps=1e-05, momentum=0.1, affine=True, track_running_stats=True),\n",
              " AdaptiveAvgPool2d(output_size=(1, 1)),\n",
              " Sequential(\n",
              "   (fc1): Linear(in_features=512, out_features=104, bias=True)\n",
              "   (output): LogSoftmax(dim=1)\n",
              " ),\n",
              " Linear(in_features=512, out_features=104, bias=True),\n",
              " LogSoftmax(dim=1)]"
            ]
          },
          "metadata": {
            "tags": []
          },
          "execution_count": 80
        }
      ]
    },
    {
      "cell_type": "code",
      "metadata": {
        "id": "65YkPg0HT2vH",
        "colab_type": "code",
        "colab": {}
      },
      "source": [
        "import torch.nn.utils.prune as prune\n",
        "\n",
        "def prune_network(model, proportion):\n",
        "    for module in list(model.children()):\n",
        "        if isinstance(module,nn.Conv2d) or isinstance(module, nn.Conv1d):\n",
        "            # conv layer? -> Structured pruning of channels? or unstructured?\n",
        "            # Below is prune based on l2 norm, by channel\n",
        "            prune.ln_structured(module, name=\"weight\", amount=proportion, n=2, dim=0)\n",
        "            # For just unstructured pruning, uncomment the line below:\n",
        "            #prune.l1_unstructured(module, \"weight\", proportion)\n",
        "        elif isinstance(module,nn.Linear):\n",
        "            # fc layer? -> prune all weights, unstructured\n",
        "            prune.l1_unstructured(module, \"weight\", proportion)"
      ],
      "execution_count": 70,
      "outputs": []
    },
    {
      "cell_type": "code",
      "metadata": {
        "id": "DuWuiyzgT3FR",
        "colab_type": "code",
        "colab": {
          "base_uri": "https://localhost:8080/",
          "height": 1000
        },
        "outputId": "a5e75bce-c9eb-4f17-b29b-526461a261a3"
      },
      "source": [
        "from torch import optim\n",
        "learning_rate=.0002\n",
        "\n",
        "repetitions = 3\n",
        "j_epochs = 3\n",
        "prune_proportion = 0.1\n",
        "momentum = 0.5\n",
        "\n",
        "network = models.resnet18(pretrained = True)\n",
        "\n",
        "fc = nn.Sequential(OrderedDict([\n",
        "    ('fc1', nn.Linear(512,104)),\n",
        "    #('relu', nn.ReLU()),\n",
        "    #('fc2', nn.Linear(100,104)),\n",
        "    ('output', nn.LogSoftmax(dim=1))\n",
        "]))\n",
        "\n",
        "network.fc = fc\n",
        "\n",
        "network.to(default_device)\n",
        "initial_state_dict = torch.load('/content/gdrive/My Drive/flowers0822_e{:02d}.pth'.format(3))\n",
        "#init the masks, etc. \n",
        "network.load_state_dict(initial_state_dict)\n",
        "prune_network(network, 0.0)\n",
        "#saved_val = initial_state_dict[\"conv1.weight_orig\"].clone().detach()\n",
        "# delete all the masks so that they are not loaded later\n",
        "for k in initial_state_dict.copy():\n",
        "    # detach the vars so they don't just change as the model trains\n",
        "    initial_state_dict[k] = initial_state_dict[k].clone().detach()\n",
        "    if \"mask\" in k:\n",
        "        del initial_state_dict[k]\n",
        "\n",
        "\n",
        "#torch.save(network.state_dict(), './pruning_examples/model.pth') # save the initial model + weights to the disk but also keep in memory\n",
        "\n",
        "\n",
        "\n",
        "for rep in range(repetitions):\n",
        "    #load the original weights w/o changing the pruning mask\n",
        "    network.load_state_dict(initial_state_dict, strict=False)\n",
        "    # re-make the optimizer to make sure it's tracking the weight tensors properly\n",
        "    optimizer = optim.SGD(network.parameters(), lr=learning_rate,momentum=momentum)\n",
        "\n",
        "    print(\"---------------------\\nPRUNING ITERATION \",rep, ctime())\n",
        "    train_validate(network,TRAINING_FILENAMES, VALIDATION_FILENAMES, criterion, optimizer, j_epochs,\n",
        "               t_transform=t_transform, v_transform=v_transform) \n",
        "    # train for J iterations\n",
        "    # prune network\n",
        "    if rep < repetitions-1: # if not the end of last round\n",
        "        print(\"pruning network...\")\n",
        "        prune_network(network, prune_proportion)\n"
      ],
      "execution_count": 85,
      "outputs": [
        {
          "output_type": "stream",
          "text": [
            "---------------------\n",
            "PRUNING ITERATION  0 Sat Aug 22 10:39:49 2020\n",
            "Begin Sat Aug 22 10:39:49 2020\n",
            "Training Steps: 1594 Batches: 1594\n",
            "Validation Steps: 464 Batches: 464\n",
            "Epoch : 1/3.. Training Loss: 0.23439663671273153 Validation Loss: 0.18574086398464337 Sat Aug 22 10:50:04 2020\n",
            "Training Steps: 1594 Batches: 1594\n",
            "Validation Steps: 464 Batches: 464\n",
            "Epoch : 2/3.. Training Loss: 0.21333238965977241 Validation Loss: 0.17782435200883653 Sat Aug 22 11:00:12 2020\n",
            "Training Steps: 1594 Batches: 1594\n",
            "Validation Steps: 464 Batches: 464\n",
            "Epoch : 3/3.. Training Loss: 0.2047133770648857 Validation Loss: 0.17305360262378536 Sat Aug 22 11:10:20 2020\n"
          ],
          "name": "stdout"
        },
        {
          "output_type": "display_data",
          "data": {
            "image/png": "[encoded data removed]",
            "text/plain": [
              "<Figure size 432x288 with 1 Axes>"
            ]
          },
          "metadata": {
            "tags": [],
            "needs_background": "light"
          }
        },
        {
          "output_type": "stream",
          "text": [
            "pruning network...\n",
            "---------------------\n",
            "PRUNING ITERATION  1 Sat Aug 22 11:10:21 2020\n",
            "Begin Sat Aug 22 11:10:21 2020\n",
            "Training Steps: 1594 Batches: 1594\n",
            "Validation Steps: 464 Batches: 464\n",
            "Epoch : 1/3.. Training Loss: 0.2359795101944497 Validation Loss: 0.184582391107487 Sat Aug 22 11:20:34 2020\n",
            "Training Steps: 1594 Batches: 1594\n",
            "Validation Steps: 464 Batches: 464\n",
            "Epoch : 2/3.. Training Loss: 0.21511205948820902 Validation Loss: 0.17757945862831548 Sat Aug 22 11:30:44 2020\n",
            "Training Steps: 1594 Batches: 1594\n",
            "Validation Steps: 464 Batches: 464\n",
            "Epoch : 3/3.. Training Loss: 0.20483299340863775 Validation Loss: 0.17313412541989237 Sat Aug 22 11:40:52 2020\n"
          ],
          "name": "stdout"
        },
        {
          "output_type": "display_data",
          "data": {
            "image/png": "[encoded data removed]",
            "text/plain": [
              "<Figure size 432x288 with 1 Axes>"
            ]
          },
          "metadata": {
            "tags": [],
            "needs_background": "light"
          }
        },
        {
          "output_type": "stream",
          "text": [
            "pruning network...\n",
            "---------------------\n",
            "PRUNING ITERATION  2 Sat Aug 22 11:40:52 2020\n",
            "Begin Sat Aug 22 11:40:52 2020\n",
            "Training Steps: 1594 Batches: 1594\n",
            "Validation Steps: 464 Batches: 464\n",
            "Epoch : 1/3.. Training Loss: 0.23528698961435462 Validation Loss: 0.18722663076337556 Sat Aug 22 11:51:01 2020\n",
            "Training Steps: 1594 Batches: 1594\n",
            "Validation Steps: 464 Batches: 464\n",
            "Epoch : 2/3.. Training Loss: 0.21292004769155767 Validation Loss: 0.17947978697363928 Sat Aug 22 12:01:10 2020\n",
            "Training Steps: 1594 Batches: 1594\n",
            "Validation Steps: 464 Batches: 464\n",
            "Epoch : 3/3.. Training Loss: 0.20239574269674288 Validation Loss: 0.1729922605164606 Sat Aug 22 12:11:20 2020\n"
          ],
          "name": "stdout"
        },
        {
          "output_type": "display_data",
          "data": {
            "image/png": "[encoded data removed]",
            "text/plain": [
              "<Figure size 432x288 with 1 Axes>"
            ]
          },
          "metadata": {
            "tags": [],
            "needs_background": "light"
          }
        },
        {
          "output_type": "error",
          "ename": "NameError",
          "evalue": "ignored",
          "traceback": [
            "\u001b[0;31m---------------------------------------------------------------------------\u001b[0m",
            "\u001b[0;31mNameError\u001b[0m                                 Traceback (most recent call last)",
            "\u001b[0;32m<ipython-input-85-a872af277aa4>\u001b[0m in \u001b[0;36m<module>\u001b[0;34m()\u001b[0m\n\u001b[1;32m     51\u001b[0m         \u001b[0mprune_network\u001b[0m\u001b[0;34m(\u001b[0m\u001b[0mnetwork\u001b[0m\u001b[0;34m,\u001b[0m \u001b[0mprune_proportion\u001b[0m\u001b[0;34m)\u001b[0m\u001b[0;34m\u001b[0m\u001b[0;34m\u001b[0m\u001b[0m\n\u001b[1;32m     52\u001b[0m \u001b[0;34m\u001b[0m\u001b[0m\n\u001b[0;32m---> 53\u001b[0;31m \u001b[0mtorch\u001b[0m\u001b[0;34m.\u001b[0m\u001b[0msave\u001b[0m\u001b[0;34m(\u001b[0m\u001b[0mnetwork\u001b[0m\u001b[0;34m.\u001b[0m\u001b[0mstate_dict\u001b[0m\u001b[0;34m(\u001b[0m\u001b[0;34m)\u001b[0m\u001b[0;34m,\u001b[0m \u001b[0;34m'/content/gdrive/My Drive/melanoma0817pruned.pth'\u001b[0m\u001b[0;34m.\u001b[0m\u001b[0mformat\u001b[0m\u001b[0;34m(\u001b[0m\u001b[0mi\u001b[0m\u001b[0;34m)\u001b[0m\u001b[0;34m)\u001b[0m\u001b[0;34m\u001b[0m\u001b[0;34m\u001b[0m\u001b[0m\n\u001b[0m",
            "\u001b[0;31mNameError\u001b[0m: name 'i' is not defined"
          ]
        }
      ]
    },
    {
      "cell_type": "code",
      "metadata": {
        "id": "NyqGOwqD8fD4",
        "colab_type": "code",
        "colab": {
          "base_uri": "https://localhost:8080/",
          "height": 1000
        },
        "outputId": "5f839c72-40b3-42e5-fb60-d9bd15d00462"
      },
      "source": [
        "prune_proportion = 0.2\n",
        "\n",
        "for rep in range(repetitions,5):\n",
        "    #load the original weights w/o changing the pruning mask\n",
        "    network.load_state_dict(initial_state_dict, strict=False)\n",
        "    # re-make the optimizer to make sure it's tracking the weight tensors properly\n",
        "    optimizer = optim.SGD(network.parameters(), lr=learning_rate,momentum=momentum)\n",
        "\n",
        "    print(\"---------------------\\nPRUNING ITERATION \",rep, ctime())\n",
        "    train_validate(network,TRAINING_FILENAMES, VALIDATION_FILENAMES, criterion, optimizer, j_epochs,\n",
        "               t_transform=t_transform, v_transform=v_transform) \n",
        "    # train for J iterations\n",
        "    # prune network\n",
        "    if rep < repetitions-1: # if not the end of last round\n",
        "        print(\"pruning network...\")\n",
        "        prune_network(network, prune_proportion)\n",
        "\n",
        "torch.save(network.state_dict(), '/content/gdrive/My Drive/melanoma0817pruned.pth'.format(i))\n"
      ],
      "execution_count": 86,
      "outputs": [
        {
          "output_type": "stream",
          "text": [
            "---------------------\n",
            "PRUNING ITERATION  3 Sat Aug 22 12:11:22 2020\n",
            "Begin Sat Aug 22 12:11:22 2020\n",
            "Training Steps: 1594 Batches: 1594\n",
            "Validation Steps: 464 Batches: 464\n",
            "Epoch : 1/3.. Training Loss: 0.2348157466229089 Validation Loss: 0.18597956316079944 Sat Aug 22 12:21:41 2020\n",
            "Training Steps: 1594 Batches: 1594\n",
            "Validation Steps: 464 Batches: 464\n",
            "Epoch : 2/3.. Training Loss: 0.21276756803269462 Validation Loss: 0.17838272614131584 Sat Aug 22 12:32:01 2020\n",
            "Training Steps: 1594 Batches: 1594\n",
            "Validation Steps: 464 Batches: 464\n",
            "Epoch : 3/3.. Training Loss: 0.20359168040615003 Validation Loss: 0.1733447734210319 Sat Aug 22 12:42:16 2020\n"
          ],
          "name": "stdout"
        },
        {
          "output_type": "display_data",
          "data": {
            "image/png": "[encoded data removed]",
            "text/plain": [
              "<Figure size 432x288 with 1 Axes>"
            ]
          },
          "metadata": {
            "tags": [],
            "needs_background": "light"
          }
        },
        {
          "output_type": "stream",
          "text": [
            "---------------------\n",
            "PRUNING ITERATION  4 Sat Aug 22 12:42:16 2020\n",
            "Begin Sat Aug 22 12:42:16 2020\n",
            "Training Steps: 1594 Batches: 1594\n",
            "Validation Steps: 464 Batches: 464\n",
            "Epoch : 1/3.. Training Loss: 0.2327055255847754 Validation Loss: 0.18638673016865706 Sat Aug 22 12:52:31 2020\n",
            "Training Steps: 1594 Batches: 1594\n",
            "Validation Steps: 464 Batches: 464\n",
            "Epoch : 2/3.. Training Loss: 0.21348536418838368 Validation Loss: 0.17852319575894368 Sat Aug 22 13:02:56 2020\n",
            "Training Steps: 1594 Batches: 1594\n",
            "Validation Steps: 464 Batches: 464\n",
            "Epoch : 3/3.. Training Loss: 0.20112350559123382 Validation Loss: 0.17231867862223038 Sat Aug 22 13:13:22 2020\n"
          ],
          "name": "stdout"
        },
        {
          "output_type": "display_data",
          "data": {
            "image/png": "[encoded data removed]",
            "text/plain": [
              "<Figure size 432x288 with 1 Axes>"
            ]
          },
          "metadata": {
            "tags": [],
            "needs_background": "light"
          }
        },
        {
          "output_type": "error",
          "ename": "NameError",
          "evalue": "ignored",
          "traceback": [
            "\u001b[0;31m---------------------------------------------------------------------------\u001b[0m",
            "\u001b[0;31mNameError\u001b[0m                                 Traceback (most recent call last)",
            "\u001b[0;32m<ipython-input-86-eed8a6bf6961>\u001b[0m in \u001b[0;36m<module>\u001b[0;34m()\u001b[0m\n\u001b[1;32m     16\u001b[0m         \u001b[0mprune_network\u001b[0m\u001b[0;34m(\u001b[0m\u001b[0mnetwork\u001b[0m\u001b[0;34m,\u001b[0m \u001b[0mprune_proportion\u001b[0m\u001b[0;34m)\u001b[0m\u001b[0;34m\u001b[0m\u001b[0;34m\u001b[0m\u001b[0m\n\u001b[1;32m     17\u001b[0m \u001b[0;34m\u001b[0m\u001b[0m\n\u001b[0;32m---> 18\u001b[0;31m \u001b[0mtorch\u001b[0m\u001b[0;34m.\u001b[0m\u001b[0msave\u001b[0m\u001b[0;34m(\u001b[0m\u001b[0mnetwork\u001b[0m\u001b[0;34m.\u001b[0m\u001b[0mstate_dict\u001b[0m\u001b[0;34m(\u001b[0m\u001b[0;34m)\u001b[0m\u001b[0;34m,\u001b[0m \u001b[0;34m'/content/gdrive/My Drive/melanoma0817pruned.pth'\u001b[0m\u001b[0;34m.\u001b[0m\u001b[0mformat\u001b[0m\u001b[0;34m(\u001b[0m\u001b[0mi\u001b[0m\u001b[0;34m)\u001b[0m\u001b[0;34m)\u001b[0m\u001b[0;34m\u001b[0m\u001b[0;34m\u001b[0m\u001b[0m\n\u001b[0m",
            "\u001b[0;31mNameError\u001b[0m: name 'i' is not defined"
          ]
        }
      ]
    },
    {
      "cell_type": "code",
      "metadata": {
        "id": "_lMXj_3UWCPn",
        "colab_type": "code",
        "colab": {}
      },
      "source": [
        "torch.save(network.state_dict(), '/content/gdrive/My Drive/flowers0822pruned.pth')"
      ],
      "execution_count": 87,
      "outputs": []
    },
    {
      "cell_type": "code",
      "metadata": {
        "id": "43S66g7waDz3",
        "colab_type": "code",
        "colab": {}
      },
      "source": [
        "'''\n",
        "val_loader = DataLoader(flower_val, batch_size = BATCH_SIZE, shuffle=False)\n",
        "for s in range(NUM_VALIDATION_IMAGES//BATCH_SIZE):\n",
        "    for images, labels in val_loader:\n",
        "      inputs, labels = images.to(default_device), labels.to(default_device)\n",
        "      inputs=inputs.permute(0,3,1,2)\n",
        "\n",
        "      img = model(inputs)\n",
        "      loss = criterion(img, labels)\n",
        "      print(loss.item())\n",
        "'''"
      ],
      "execution_count": null,
      "outputs": []
    },
    {
      "cell_type": "code",
      "metadata": {
        "id": "mfJhtoJEd0nG",
        "colab_type": "code",
        "colab": {}
      },
      "source": [
        "'''\n",
        "flower_val = flowerDataSet(gcs_path=VALIDATION_FILENAMES, train = True)\n",
        "flower_val_loader = DataLoader(flower_val, batch_size = 16, shuffle=False)\n",
        "'''"
      ],
      "execution_count": null,
      "outputs": []
    },
    {
      "cell_type": "code",
      "metadata": {
        "id": "_3ClkDJQd8_g",
        "colab_type": "code",
        "colab": {}
      },
      "source": [
        "'''\n",
        "def validate(model, trainloader, criterion, steps = 5):\n",
        "    val_loss =[]\n",
        "    for s in range(steps):\n",
        "        running_loss =0\n",
        "        for images, labels in trainloader:\n",
        "            inputs, labels = images.to(default_device), labels.to(default_device)\n",
        "            inputs=inputs.permute(0,3,1,2)\n",
        "\n",
        "            optimizer.zero_grad()\n",
        "            img = model(inputs)\n",
        "            print(inputs.dtype, labels.dtype, img.dtype)\n",
        "            print(inputs.shape, labels.shape, img.shape)\n",
        "\n",
        "            loss = criterion(img, labels)\n",
        "            running_loss+=loss\n",
        "        print(\"Epoch : {}/{}..\".format(s+1,steps),\n",
        "         \"Training Loss: {:.6f}\".format(running_loss/len(trainloader))) \n",
        "        val_loss.append(running_loss)\n",
        "    plt.plot(val_loss,label=\"Training Loss\")\n",
        "    plt.show() \n",
        "    '''"
      ],
      "execution_count": null,
      "outputs": []
    },
    {
      "cell_type": "code",
      "metadata": {
        "id": "BB0y-Gu8d9S2",
        "colab_type": "code",
        "colab": {}
      },
      "source": [
        ""
      ],
      "execution_count": null,
      "outputs": []
    }
  ]
}