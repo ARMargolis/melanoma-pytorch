{
 "metadata": {
  "language_info": {
   "codemirror_mode": {
    "name": "ipython",
    "version": 3
   },
   "file_extension": ".py",
   "mimetype": "text/x-python",
   "name": "python",
   "nbconvert_exporter": "python",
   "pygments_lexer": "ipython3",
   "version": "3.7.7-final"
  },
  "orig_nbformat": 2,
  "kernelspec": {
   "name": "python37764bitvenvvenvf55f1f346c8e485d9ede492664b2b71b",
   "display_name": "Python 3.7.7 64-bit ('.venv': venv)"
  }
 },
 "nbformat": 4,
 "nbformat_minor": 2,
 "cells": [
  {
   "cell_type": "code",
   "execution_count": 1,
   "metadata": {
    "tags": []
   },
   "outputs": [],
   "source": [
    "%load_ext autoreload\n",
    "%autoreload 2"
   ]
  },
  {
   "cell_type": "code",
   "execution_count": 2,
   "metadata": {},
   "outputs": [],
   "source": [
    "from os import path\n",
    "os.chdir('..')\n",
    "import pandas as pd\n",
    "from torchvision.transforms.functional import to_pil_image\n",
    "from torch.utils.data import DataLoader"
   ]
  },
  {
   "cell_type": "code",
   "execution_count": 3,
   "metadata": {
    "tags": []
   },
   "outputs": [],
   "source": [
    "available = ['ISIC_0052212','ISIC_0068279','ISIC_0076262']\n",
    "df = pd.read_csv('./data/labels/train.csv')\n",
    "df = df[df.image_name.isin(available)]\n",
    "df.to_csv('./data/labels/sandbox.csv')\n",
    "#pd.read_csv('../data/labels/sandbox.csv')"
   ]
  },
  {
   "cell_type": "code",
   "execution_count": 10,
   "metadata": {},
   "outputs": [],
   "source": [
    "from model.data import MelanomaDataset\n",
    "from model import model as model_pkg"
   ]
  },
  {
   "cell_type": "code",
   "execution_count": 13,
   "metadata": {},
   "outputs": [],
   "source": [
    "imgs_dir = path.normpath(path.join(os.getcwd(),'data/jpeg/train'))\n",
    "csv_path = path.normpath(path.join(os.getcwd(),'data/labels/sandbox.csv'))\n",
    "mds = MelanomaDataset(imgs_dir=imgs_dir, label_csv = csv_path, train = True)\n",
    "mdl = DataLoader(mds, batch_size = 3, shuffle=True)\n",
    "model = model_pkg.MelanomaNet()"
   ]
  },
  {
   "cell_type": "code",
   "execution_count": 15,
   "metadata": {
    "tags": []
   },
   "outputs": [],
   "source": [
    "for i, batch in enumerate(mdl):\n",
    "    x, y = batch\n",
    "    a = model(x)"
   ]
  },
  {
   "cell_type": "code",
   "execution_count": 17,
   "metadata": {
    "tags": []
   },
   "outputs": [
    {
     "output_type": "execute_result",
     "data": {
      "text/plain": "torch.Size([3, 6, 334, 334])"
     },
     "metadata": {},
     "execution_count": 17
    }
   ],
   "source": [
    "a.shape"
   ]
  },
  {
   "cell_type": "code",
   "execution_count": 18,
   "metadata": {
    "tags": []
   },
   "outputs": [
    {
     "output_type": "execute_result",
     "data": {
      "text/plain": "torch.Size([3, 3, 1000, 1000])"
     },
     "metadata": {},
     "execution_count": 18
    }
   ],
   "source": [
    "x.shape"
   ]
  },
  {
   "cell_type": "code",
   "execution_count": 52,
   "metadata": {
    "tags": []
   },
   "outputs": [
    {
     "output_type": "stream",
     "name": "stdout",
     "text": "0\n"
    },
    {
     "output_type": "execute_result",
     "data": {
      "text/plain": "(tensor([[[0.8039, 0.8000, 0.8000,  ..., 0.8588, 0.8510, 0.8471],\n          [0.8039, 0.8039, 0.8039,  ..., 0.8627, 0.8510, 0.8471],\n          [0.8078, 0.8118, 0.8118,  ..., 0.8627, 0.8471, 0.8392],\n          ...,\n          [0.7569, 0.7490, 0.7412,  ..., 0.8000, 0.8000, 0.8157],\n          [0.7686, 0.7569, 0.7490,  ..., 0.8078, 0.8039, 0.8196],\n          [0.7647, 0.7529, 0.7490,  ..., 0.8235, 0.8235, 0.8235]],\n \n         [[0.5255, 0.5137, 0.5176,  ..., 0.5765, 0.5686, 0.5647],\n          [0.5294, 0.5216, 0.5216,  ..., 0.5843, 0.5686, 0.5647],\n          [0.5294, 0.5255, 0.5294,  ..., 0.5843, 0.5647, 0.5608],\n          ...,\n          [0.4980, 0.4902, 0.4824,  ..., 0.5647, 0.5608, 0.5804],\n          [0.5098, 0.4980, 0.4902,  ..., 0.5725, 0.5686, 0.5804],\n          [0.5059, 0.4941, 0.4902,  ..., 0.5922, 0.5922, 0.5843]],\n \n         [[0.6157, 0.6118, 0.6118,  ..., 0.6824, 0.6745, 0.6706],\n          [0.6196, 0.6157, 0.6157,  ..., 0.6863, 0.6745, 0.6706],\n          [0.6196, 0.6235, 0.6275,  ..., 0.6863, 0.6706, 0.6627],\n          ...,\n          [0.5373, 0.5255, 0.5216,  ..., 0.6118, 0.6078, 0.6275],\n          [0.5490, 0.5373, 0.5255,  ..., 0.6196, 0.6157, 0.6314],\n          [0.5451, 0.5333, 0.5255,  ..., 0.6392, 0.6392, 0.6353]]]),\n tensor([0]))"
     },
     "metadata": {},
     "execution_count": 52
    }
   ],
   "source": [
    "mds[0]"
   ]
  },
  {
   "cell_type": "code",
   "execution_count": null,
   "metadata": {},
   "outputs": [],
   "source": []
  }
 ]
}